{
  "nbformat": 4,
  "nbformat_minor": 0,
  "metadata": {
    "colab": {
      "name": "Model Viz",
      "provenance": [],
      "collapsed_sections": [],
      "authorship_tag": "ABX9TyM3i0MvAJmIf0f11W0jib4a",
      "include_colab_link": true
    },
    "kernelspec": {
      "name": "python3",
      "display_name": "Python 3"
    },
    "language_info": {
      "name": "python"
    },
    "widgets": {
      "application/vnd.jupyter.widget-state+json": {
        "9a2ee3db06e14580a9bb9a20512b985a": {
          "model_module": "@jupyter-widgets/controls",
          "model_name": "HBoxModel",
          "state": {
            "_view_name": "HBoxView",
            "_dom_classes": [],
            "_model_name": "HBoxModel",
            "_view_module": "@jupyter-widgets/controls",
            "_model_module_version": "1.5.0",
            "_view_count": null,
            "_view_module_version": "1.5.0",
            "box_style": "",
            "layout": "IPY_MODEL_c09cbef1b365441cbc0b6992b22c5b4c",
            "_model_module": "@jupyter-widgets/controls",
            "children": [
              "IPY_MODEL_b1bc53621ad3454a87dba3d8dfc3dfbc",
              "IPY_MODEL_4637ec061dff41428541ea05e3601e81"
            ]
          }
        },
        "c09cbef1b365441cbc0b6992b22c5b4c": {
          "model_module": "@jupyter-widgets/base",
          "model_name": "LayoutModel",
          "state": {
            "_view_name": "LayoutView",
            "grid_template_rows": null,
            "right": null,
            "justify_content": null,
            "_view_module": "@jupyter-widgets/base",
            "overflow": null,
            "_model_module_version": "1.2.0",
            "_view_count": null,
            "flex_flow": null,
            "width": null,
            "min_width": null,
            "border": null,
            "align_items": null,
            "bottom": null,
            "_model_module": "@jupyter-widgets/base",
            "top": null,
            "grid_column": null,
            "overflow_y": null,
            "overflow_x": null,
            "grid_auto_flow": null,
            "grid_area": null,
            "grid_template_columns": null,
            "flex": null,
            "_model_name": "LayoutModel",
            "justify_items": null,
            "grid_row": null,
            "max_height": null,
            "align_content": null,
            "visibility": null,
            "align_self": null,
            "height": null,
            "min_height": null,
            "padding": null,
            "grid_auto_rows": null,
            "grid_gap": null,
            "max_width": null,
            "order": null,
            "_view_module_version": "1.2.0",
            "grid_template_areas": null,
            "object_position": null,
            "object_fit": null,
            "grid_auto_columns": null,
            "margin": null,
            "display": null,
            "left": null
          }
        },
        "b1bc53621ad3454a87dba3d8dfc3dfbc": {
          "model_module": "@jupyter-widgets/controls",
          "model_name": "FloatProgressModel",
          "state": {
            "_view_name": "ProgressView",
            "style": "IPY_MODEL_a1b4077e467b43c28928c57713eabd2e",
            "_dom_classes": [],
            "description": "100%",
            "_model_name": "FloatProgressModel",
            "bar_style": "success",
            "max": 553507836,
            "_view_module": "@jupyter-widgets/controls",
            "_model_module_version": "1.5.0",
            "value": 553507836,
            "_view_count": null,
            "_view_module_version": "1.5.0",
            "orientation": "horizontal",
            "min": 0,
            "description_tooltip": null,
            "_model_module": "@jupyter-widgets/controls",
            "layout": "IPY_MODEL_fbee9e07321d4b2cb851d71149aee7cb"
          }
        },
        "4637ec061dff41428541ea05e3601e81": {
          "model_module": "@jupyter-widgets/controls",
          "model_name": "HTMLModel",
          "state": {
            "_view_name": "HTMLView",
            "style": "IPY_MODEL_10f4103390f64a328b2227a89e81e3ca",
            "_dom_classes": [],
            "description": "",
            "_model_name": "HTMLModel",
            "placeholder": "​",
            "_view_module": "@jupyter-widgets/controls",
            "_model_module_version": "1.5.0",
            "value": " 528M/528M [00:14&lt;00:00, 38.3MB/s]",
            "_view_count": null,
            "_view_module_version": "1.5.0",
            "description_tooltip": null,
            "_model_module": "@jupyter-widgets/controls",
            "layout": "IPY_MODEL_7ac2fa77da314216ad06241f80ce075b"
          }
        },
        "a1b4077e467b43c28928c57713eabd2e": {
          "model_module": "@jupyter-widgets/controls",
          "model_name": "ProgressStyleModel",
          "state": {
            "_view_name": "StyleView",
            "_model_name": "ProgressStyleModel",
            "description_width": "initial",
            "_view_module": "@jupyter-widgets/base",
            "_model_module_version": "1.5.0",
            "_view_count": null,
            "_view_module_version": "1.2.0",
            "bar_color": null,
            "_model_module": "@jupyter-widgets/controls"
          }
        },
        "fbee9e07321d4b2cb851d71149aee7cb": {
          "model_module": "@jupyter-widgets/base",
          "model_name": "LayoutModel",
          "state": {
            "_view_name": "LayoutView",
            "grid_template_rows": null,
            "right": null,
            "justify_content": null,
            "_view_module": "@jupyter-widgets/base",
            "overflow": null,
            "_model_module_version": "1.2.0",
            "_view_count": null,
            "flex_flow": null,
            "width": null,
            "min_width": null,
            "border": null,
            "align_items": null,
            "bottom": null,
            "_model_module": "@jupyter-widgets/base",
            "top": null,
            "grid_column": null,
            "overflow_y": null,
            "overflow_x": null,
            "grid_auto_flow": null,
            "grid_area": null,
            "grid_template_columns": null,
            "flex": null,
            "_model_name": "LayoutModel",
            "justify_items": null,
            "grid_row": null,
            "max_height": null,
            "align_content": null,
            "visibility": null,
            "align_self": null,
            "height": null,
            "min_height": null,
            "padding": null,
            "grid_auto_rows": null,
            "grid_gap": null,
            "max_width": null,
            "order": null,
            "_view_module_version": "1.2.0",
            "grid_template_areas": null,
            "object_position": null,
            "object_fit": null,
            "grid_auto_columns": null,
            "margin": null,
            "display": null,
            "left": null
          }
        },
        "10f4103390f64a328b2227a89e81e3ca": {
          "model_module": "@jupyter-widgets/controls",
          "model_name": "DescriptionStyleModel",
          "state": {
            "_view_name": "StyleView",
            "_model_name": "DescriptionStyleModel",
            "description_width": "",
            "_view_module": "@jupyter-widgets/base",
            "_model_module_version": "1.5.0",
            "_view_count": null,
            "_view_module_version": "1.2.0",
            "_model_module": "@jupyter-widgets/controls"
          }
        },
        "7ac2fa77da314216ad06241f80ce075b": {
          "model_module": "@jupyter-widgets/base",
          "model_name": "LayoutModel",
          "state": {
            "_view_name": "LayoutView",
            "grid_template_rows": null,
            "right": null,
            "justify_content": null,
            "_view_module": "@jupyter-widgets/base",
            "overflow": null,
            "_model_module_version": "1.2.0",
            "_view_count": null,
            "flex_flow": null,
            "width": null,
            "min_width": null,
            "border": null,
            "align_items": null,
            "bottom": null,
            "_model_module": "@jupyter-widgets/base",
            "top": null,
            "grid_column": null,
            "overflow_y": null,
            "overflow_x": null,
            "grid_auto_flow": null,
            "grid_area": null,
            "grid_template_columns": null,
            "flex": null,
            "_model_name": "LayoutModel",
            "justify_items": null,
            "grid_row": null,
            "max_height": null,
            "align_content": null,
            "visibility": null,
            "align_self": null,
            "height": null,
            "min_height": null,
            "padding": null,
            "grid_auto_rows": null,
            "grid_gap": null,
            "max_width": null,
            "order": null,
            "_view_module_version": "1.2.0",
            "grid_template_areas": null,
            "object_position": null,
            "object_fit": null,
            "grid_auto_columns": null,
            "margin": null,
            "display": null,
            "left": null
          }
        }
      }
    }
  },
  "cells": [
    {
      "cell_type": "markdown",
      "metadata": {
        "id": "view-in-github",
        "colab_type": "text"
      },
      "source": [
        "<a href=\"https://colab.research.google.com/github/123prashanth123/Fault-Detection-System/blob/Colabs/Model_Viz.ipynb\" target=\"_parent\"><img src=\"https://colab.research.google.com/assets/colab-badge.svg\" alt=\"Open In Colab\"/></a>"
      ]
    },
    {
      "cell_type": "markdown",
      "metadata": {
        "id": "TIlw24bhD3ma"
      },
      "source": [
        "# Notebook Setup"
      ]
    },
    {
      "cell_type": "code",
      "metadata": {
        "id": "Ek9PXMBvL1bG"
      },
      "source": [
        "from IPython.display import clear_output\n",
        "\n",
        "!pip install torchviz\n",
        "!pip install hiddenlayer\n",
        "\n",
        "clear_output()"
      ],
      "execution_count": 1,
      "outputs": []
    },
    {
      "cell_type": "code",
      "metadata": {
        "id": "jBbxWELqMA72"
      },
      "source": [
        "import torch\n",
        "from torch import nn\n",
        "from torchvision import models, transforms\n",
        "\n",
        "from torchviz import make_dot\n",
        "import hiddenlayer as HL\n",
        "\n",
        "import warnings\n",
        "warnings.filterwarnings(\"ignore\")"
      ],
      "execution_count": 2,
      "outputs": []
    },
    {
      "cell_type": "markdown",
      "metadata": {
        "id": "_r5HKRdpdheb"
      },
      "source": [
        "# Siamese"
      ]
    },
    {
      "cell_type": "code",
      "metadata": {
        "id": "j5RUKXHPMJt8"
      },
      "source": [
        "class SiameseNetwork(nn.Module):\n",
        "    def __init__(self, IL=2048, embed=4096):\n",
        "        super(SiameseNetwork, self).__init__()\n",
        "\n",
        "        self.embedder = nn.Sequential()\n",
        "        self.embedder.add_module(\"BN\", nn.BatchNorm1d(num_features=IL, eps=1e-5))\n",
        "        self.embedder.add_module(\"FC\", nn.Linear(in_features=IL, out_features=embed))\n",
        "        self.embedder.add_module(\"AN\", nn.ReLU())\n",
        "\n",
        "        self.classifier = nn.Sequential()\n",
        "        self.classifier.add_module(\"BN\", nn.BatchNorm1d(num_features=embed, eps=1e-5))\n",
        "        self.classifier.add_module(\"FC\", nn.Linear(in_features=embed, out_features=1))\n",
        "\n",
        "    def getOptimizer(self, lr=1e-3, wd=0):\n",
        "        return optim.Adam(self.parameters(), lr=lr, weight_decay=wd)\n",
        "\n",
        "    def getScheduler(self, optimizer=None, patience=5, eps=1e-8):\n",
        "        return optim.lr_scheduler.ReduceLROnPlateau(optimizer=optimizer, patience=patience, eps=eps, verbose=True)\n",
        "\n",
        "    def forward(self, x1, x2=None):\n",
        "        if x2 is not None:\n",
        "            x1 = self.embedder(x1)\n",
        "            x2 = self.embedder(x2)\n",
        "            x = self.classifier(torch.abs(x1 - x2))\n",
        "            return x\n",
        "        else:\n",
        "            x = self.classifier(self.embedder(x1))\n",
        "            return x\n",
        "\n",
        "model = SiameseNetwork()\n",
        "model.eval()\n",
        "\n",
        "clear_output()\n",
        "\n",
        "x = torch.rand(8, 2, 2048)\n",
        "\n",
        "\n",
        "# TORCHVIZ\n",
        "out = model(x[:, 0, :], x[:, 1, :])\n",
        "make_dot(out, params=dict(list(model.named_parameters()))).render(\"render_from_torchviz\", format=\"png\")\n",
        "\n",
        "\n",
        "# HIDDENLAYER\n",
        "# Removes Constant nodes from graph.\n",
        "transforms = [HL.transforms.Prune(\"Constant\")]\n",
        "graph = HL.build_graph(model, (x[:, 0, :], x[:, 1, :]), transforms=transforms)\n",
        "# graph = HL.build_graph(model, (x[:, 0, :]), transforms=transforms)\n",
        "graph.theme = HL.graph.THEMES[\"blue\"].copy()\n",
        "graph.save(\"render_from_hiddenlayer\", format=\"png\")"
      ],
      "execution_count": 3,
      "outputs": []
    },
    {
      "cell_type": "markdown",
      "metadata": {
        "id": "gQOdpRTaD5px"
      },
      "source": [
        "# Feature Extractor"
      ]
    },
    {
      "cell_type": "code",
      "metadata": {
        "id": "NNJU78RuhtOM",
        "colab": {
          "base_uri": "https://localhost:8080/",
          "height": 103,
          "referenced_widgets": [
            "9a2ee3db06e14580a9bb9a20512b985a",
            "c09cbef1b365441cbc0b6992b22c5b4c",
            "b1bc53621ad3454a87dba3d8dfc3dfbc",
            "4637ec061dff41428541ea05e3601e81",
            "a1b4077e467b43c28928c57713eabd2e",
            "fbee9e07321d4b2cb851d71149aee7cb",
            "10f4103390f64a328b2227a89e81e3ca",
            "7ac2fa77da314216ad06241f80ce075b"
          ]
        },
        "outputId": "8b17bc14-e84c-4702-cda6-b38ddd6222b1"
      },
      "source": [
        "\"\"\"\n",
        "    ONNX doesn't support Adaptive Average Pool.\n",
        "\"\"\"\n",
        "\n",
        "class FE(nn.Module):\n",
        "    def __init__(self):\n",
        "        super(FE, self).__init__()\n",
        "        self.model = models.vgg16_bn(pretrained=True, progress=True)\n",
        "        self.model = nn.Sequential(*[*self.model.children()][:-2])\n",
        "        self.model.add_module(\"Flatten\", nn.Flatten())\n",
        "    \n",
        "    def forward(self, x):\n",
        "        return self.model(x)\n",
        "\n",
        "model = FE()\n",
        "model.eval()\n",
        "\n",
        "x = torch.rand(8, 3, 224, 224)\n",
        "op = model(x)\n",
        "\n",
        "transforms = [HL.transforms.Prune(\"Constant\")]\n",
        "graph = HL.build_graph(model, x, transforms=transforms)\n",
        "graph.theme = HL.graph.THEMES[\"blue\"].copy()\n",
        "graph.save(\"render_from_hiddenlayer_fe\", format=\"png\")"
      ],
      "execution_count": 4,
      "outputs": [
        {
          "output_type": "stream",
          "text": [
            "Downloading: \"https://download.pytorch.org/models/vgg16_bn-6c64b313.pth\" to /root/.cache/torch/hub/checkpoints/vgg16_bn-6c64b313.pth\n"
          ],
          "name": "stderr"
        },
        {
          "output_type": "display_data",
          "data": {
            "application/vnd.jupyter.widget-view+json": {
              "model_id": "9a2ee3db06e14580a9bb9a20512b985a",
              "version_minor": 0,
              "version_major": 2
            },
            "text/plain": [
              "HBox(children=(FloatProgress(value=0.0, max=553507836.0), HTML(value='')))"
            ]
          },
          "metadata": {
            "tags": []
          }
        },
        {
          "output_type": "stream",
          "text": [
            "\n"
          ],
          "name": "stdout"
        }
      ]
    },
    {
      "cell_type": "code",
      "metadata": {
        "id": "RESHp9GQD_22"
      },
      "source": [
        ""
      ],
      "execution_count": null,
      "outputs": []
    }
  ]
}