{
  "nbformat": 4,
  "nbformat_minor": 0,
  "metadata": {
    "colab": {
      "name": "Feature Patch Processing",
      "provenance": [],
      "collapsed_sections": [],
      "authorship_tag": "ABX9TyMXq7UffBdp3aESEDopQK+j",
      "include_colab_link": true
    },
    "kernelspec": {
      "name": "python3",
      "display_name": "Python 3"
    },
    "language_info": {
      "name": "python"
    },
    "accelerator": "GPU"
  },
  "cells": [
    {
      "cell_type": "markdown",
      "metadata": {
        "id": "view-in-github",
        "colab_type": "text"
      },
      "source": [
        "<a href=\"https://colab.research.google.com/github/123prashanth123/Fault-Detection-System/blob/Colabs/Feature%20Patch%20Processing.ipynb\" target=\"_parent\"><img src=\"https://colab.research.google.com/assets/colab-badge.svg\" alt=\"Open In Colab\"/></a>"
      ]
    },
    {
      "cell_type": "markdown",
      "metadata": {
        "id": "P0VFP-kAKeFn"
      },
      "source": [
        "# Imports"
      ]
    },
    {
      "cell_type": "code",
      "metadata": {
        "id": "uhbF1jmfKN5T"
      },
      "source": [
        "import os\n",
        "import cv2\n",
        "import numpy as np\n",
        "import matplotlib.pyplot as plt\n",
        "import random as r\n",
        "\n",
        "import torch\n",
        "from torch import nn\n",
        "from torchvision import models, transforms\n",
        "from torch.utils.data import Dataset\n",
        "from torch.utils.data import DataLoader as DL\n",
        "from time import time\n",
        "from IPython.display import clear_output\n",
        "\n",
        "import warnings\n",
        "warnings.filterwarnings(\"ignore\")\n",
        "\n",
        "def breaker(num=50, char=\"*\"):\n",
        "    print(\"\\n\" + num*char + \"\\n\")\n",
        "\n",
        "patch_h, patch_w = 8, 8"
      ],
      "execution_count": null,
      "outputs": []
    },
    {
      "cell_type": "markdown",
      "metadata": {
        "id": "6gbJkZaPKgXl"
      },
      "source": [
        "# Build Feature Extractor\n"
      ]
    },
    {
      "cell_type": "code",
      "metadata": {
        "id": "R5evxFjsKc5Z"
      },
      "source": [
        "class Model(nn.Module):\n",
        "    def __init__(self):\n",
        "        super(Model, self).__init__()\n",
        "\n",
        "        self.size = 224\n",
        "        self.transform = transforms.Compose([transforms.ToTensor(), transforms.Normalize([0.485, 0.456, 0.406], [0.229, 0.224, 0.225])])\n",
        "        self.device = torch.device(\"cuda\" if torch.cuda.is_available() else \"cpu\")\n",
        "\n",
        "        self.model = models.resnet50(pretrained=True, progress=True)\n",
        "        self.model = nn.Sequential(*[*self.model.children()][:-1])\n",
        "        self.model.add_module(\"Flatten\", nn.Flatten())\n",
        "    \n",
        "    def normalize(self, x):\n",
        "        for i in range(x.shape[0]):\n",
        "            x[i] = (x[i] - torch.min(x[i])) / (torch.max(x[i]) - torch.min(x[i]))\n",
        "        return x\n",
        "\n",
        "    def get_features(self, image):\n",
        "        self.to(self.device)\n",
        "        image = cv2.resize(src=image, dsize=(self.size, self.size), interpolation=cv2.INTER_AREA)\n",
        "        with torch.no_grad():\n",
        "            features = self(self.transform(image).to(self.device).unsqueeze(dim=0))\n",
        "        return self.normalize(features).detach().cpu(), self.normalize(features).detach().cpu().numpy()\n",
        "\n",
        "    def forward(self, x):\n",
        "        return self.model(x)\n",
        "\n",
        "\n",
        "model = Model()\n",
        "model.eval()\n",
        "\n",
        "clear_output()"
      ],
      "execution_count": null,
      "outputs": []
    },
    {
      "cell_type": "markdown",
      "metadata": {
        "id": "73lc_nkvLztd"
      },
      "source": [
        "# Process Patch-by-Patch"
      ]
    },
    {
      "cell_type": "code",
      "metadata": {
        "colab": {
          "base_uri": "https://localhost:8080/"
        },
        "id": "SQmuOXwkLycl",
        "outputId": "99624735-43e3-4bf3-fb38-f3f444e43c72"
      },
      "source": [
        "name = \"M6.jpg\"\n",
        "image = cv2.resize(src=cv2.cvtColor(src=cv2.imread(\"/content/\" + name, cv2.IMREAD_COLOR), code=cv2.COLOR_BGR2RGB), dsize=(640, 360), interpolation=cv2.INTER_AREA)\n",
        "\n",
        "h, w, _ = image.shape\n",
        "\n",
        "if h % patch_h == 0:num_cols = int(h/patch_h)\n",
        "else:num_cols = int(h/patch_h) + 1\n",
        "if w % patch_w == 0:num_rows = int(w/patch_w)\n",
        "else:num_rows = int(w/patch_w) + 1\n",
        "\n",
        "breaker()\n",
        "print(\"Columns, Rows : {}, {}\".format(num_cols, num_rows))\n",
        "breaker()\n",
        "\n",
        "image = cv2.resize(src=image, dsize=(num_rows*patch_w, num_cols*patch_h), interpolation=cv2.INTER_AREA)\n",
        "\n",
        "patches = []\n",
        "for i in range(0, h, patch_h):\n",
        "    for j in range(0, w, patch_w):\n",
        "        patches.append([i, patch_h+i, j, patch_w+j])\n",
        "patches = np.array(patches).reshape(num_cols, num_rows, 4)\n",
        "\n",
        "torch_features, numpy_features = [], []\n",
        "start_time = time()\n",
        "for i in range(num_cols):\n",
        "    for j in range(num_rows):\n",
        "        image_patch = image[patches[i][j][0]:patches[i][j][1], patches[i][j][2]:patches[i][j][3], :]\n",
        "        torch_features.append(model.get_features(image_patch)[0])\n",
        "        numpy_features.append(model.get_features(image_patch)[1])\n",
        "# torch_features = torch.FloatTensor(torch_features)\n",
        "# numpy_features = np.array(numpy_features)\n",
        "print(\"Time taken for {} Patches : {:.2f} seconds\".format(num_cols * num_rows, time() - start_time))\n",
        "breaker()"
      ],
      "execution_count": null,
      "outputs": [
        {
          "output_type": "stream",
          "text": [
            "\n",
            "**************************************************\n",
            "\n",
            "Columns, Rows : 45, 80\n",
            "\n",
            "**************************************************\n",
            "\n",
            "Time taken for 3600 Patches : 56.73 seconds\n",
            "\n",
            "**************************************************\n",
            "\n"
          ],
          "name": "stdout"
        }
      ]
    },
    {
      "cell_type": "markdown",
      "metadata": {
        "id": "otYiPv84v5MD"
      },
      "source": [
        "# Batch Patch Processing"
      ]
    },
    {
      "cell_type": "code",
      "metadata": {
        "id": "_MnJYCzzNBB-",
        "colab": {
          "base_uri": "https://localhost:8080/"
        },
        "outputId": "0c9f5ba3-77a1-4b89-ff49-35fe81fb9bf4"
      },
      "source": [
        "name = \"M6.jpg\"\n",
        "image = cv2.resize(src=cv2.cvtColor(src=cv2.imread(\"/content/\" + name, cv2.IMREAD_COLOR), code=cv2.COLOR_BGR2RGB), dsize=(640, 360), interpolation=cv2.INTER_AREA)\n",
        "\n",
        "h, w, _ = image.shape\n",
        "\n",
        "if h % patch_h == 0:num_cols = int(h/patch_h)\n",
        "else:num_cols = int(h/patch_h) + 1\n",
        "if w % patch_w == 0:num_rows = int(w/patch_w)\n",
        "else:num_rows = int(w/patch_w) + 1\n",
        "\n",
        "breaker()\n",
        "print(\"Columns, Rows : {}, {}\".format(num_cols, num_rows))\n",
        "breaker()\n",
        "\n",
        "image = cv2.resize(src=image, dsize=(num_rows*patch_w, num_cols*patch_h), interpolation=cv2.INTER_AREA)\n",
        "\n",
        "patches = []\n",
        "for i in range(0, h, patch_h):\n",
        "    for j in range(0, w, patch_w):\n",
        "        patches.append([i, patch_h+i, j, patch_w+j])\n",
        "patches = np.array(patches).reshape(num_cols, num_rows, 4)\n",
        "\n",
        "image_patches = []\n",
        "start_time = time()\n",
        "for i in range(num_cols):\n",
        "    for j in range(num_rows):\n",
        "        image_patches.append(image[patches[i][j][0]:patches[i][j][1], patches[i][j][2]:patches[i][j][3], :])\n",
        "print(\"Time taken for {} Patches : {:.2f} seconds\".format(num_cols * num_rows, time() - start_time))\n",
        "breaker()\n",
        "\n",
        "class DS(Dataset):\n",
        "    def __init__(self, X=None, transform=None):\n",
        "        self.transform = transform\n",
        "        self.X = X\n",
        "\n",
        "    def __len__(self):\n",
        "        return len(self.X)\n",
        "    \n",
        "    def __getitem__(self, idx):\n",
        "        return self.transform(self.X[idx])\n",
        "\n",
        "\n",
        "data_setup = DS(X=image_patches, transform=model.transform)\n",
        "data = DL(data_setup, batch_size=64, shuffle=False)\n",
        "features = torch.empty((0, 2048), device=model.device)\n",
        "\n",
        "start_time = time()\n",
        "for X in data:\n",
        "    X = X.to(model.device)\n",
        "    with torch.no_grad():\n",
        "        output = model(X)\n",
        "    features = torch.cat((features, output), dim=0)\n",
        "\n",
        "\n",
        "print(\"Time taken for {} Patches : {:.2f} seconds\".format(num_cols * num_rows, time() - start_time))\n",
        "breaker()"
      ],
      "execution_count": null,
      "outputs": [
        {
          "output_type": "stream",
          "text": [
            "\n",
            "**************************************************\n",
            "\n",
            "Columns, Rows : 45, 80\n",
            "\n",
            "**************************************************\n",
            "\n",
            "Time taken for 3600 Patches : 0.01 seconds\n",
            "\n",
            "**************************************************\n",
            "\n",
            "Time taken for 3600 Patches : 0.68 seconds\n",
            "\n",
            "**************************************************\n",
            "\n"
          ],
          "name": "stdout"
        }
      ]
    },
    {
      "cell_type": "code",
      "metadata": {
        "id": "5SlV4rU5yoHV"
      },
      "source": [
        ""
      ],
      "execution_count": null,
      "outputs": []
    }
  ]
}