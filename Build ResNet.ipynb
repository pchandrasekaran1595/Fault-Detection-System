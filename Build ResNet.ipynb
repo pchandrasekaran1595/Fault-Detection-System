{
  "nbformat": 4,
  "nbformat_minor": 0,
  "metadata": {
    "colab": {
      "name": "Build ResNet",
      "provenance": [],
      "collapsed_sections": [],
      "authorship_tag": "ABX9TyMH0cz4b4EVbvekEKliAt9C",
      "include_colab_link": true
    },
    "kernelspec": {
      "name": "python3",
      "display_name": "Python 3"
    },
    "language_info": {
      "name": "python"
    }
  },
  "cells": [
    {
      "cell_type": "markdown",
      "metadata": {
        "id": "view-in-github",
        "colab_type": "text"
      },
      "source": [
        "<a href=\"https://colab.research.google.com/github/123prashanth123/Fault-Detection-System/blob/Colabs/Build%20ResNet.ipynb\" target=\"_parent\"><img src=\"https://colab.research.google.com/assets/colab-badge.svg\" alt=\"Open In Colab\"/></a>"
      ]
    },
    {
      "cell_type": "code",
      "metadata": {
        "id": "O-FWqkELFEiN"
      },
      "source": [
        "import torch\n",
        "import torch.nn.functional as F\n",
        "from torch import nn, optim\n",
        "from torchvision import models\n"
      ],
      "execution_count": null,
      "outputs": []
    },
    {
      "cell_type": "markdown",
      "metadata": {
        "id": "fEy84BXyF1SN"
      },
      "source": [
        "# ResNet18 and ResNet34"
      ]
    },
    {
      "cell_type": "code",
      "metadata": {
        "id": "W_9baDctFW2x"
      },
      "source": [
        "class Block(nn.Module):\n",
        "    def __init__(self, in_channels, out_channels, identity_downsample=None, stride=1):\n",
        "        super(Block, self).__init__()\n",
        "\n",
        "        self.identity_downsample = identity_downsample\n",
        "\n",
        "        self.conv1 = nn.Conv2d(in_channels=in_channels, out_channels=out_channels, kernel_size=3, stride=stride, padding=1)\n",
        "        self.bn1 = nn.BatchNorm2d(num_features=out_channels, eps=1e-5)\n",
        "        self.relu = nn.ReLU()\n",
        "        self.conv2 = nn.Conv2d(in_channels=out_channels, out_channels=out_channels, kernel_size=3, stride=1, padding=1)\n",
        "        self.bn2 = nn.BatchNorm2d(num_features=out_channels, eps=1e-5)\n",
        "    \n",
        "    def forward(self, x):\n",
        "        identity = x\n",
        "        x = self.relu(self.bn1(self.conv1(x)))\n",
        "        x = self.bn2(self.conv2(x))\n",
        "        if self.identity_downsample is not None:\n",
        "            identity = self.identity_downsample(identity)\n",
        "        x += identity\n",
        "        x = self.relu(x)\n",
        "        return x"
      ],
      "execution_count": null,
      "outputs": []
    },
    {
      "cell_type": "code",
      "metadata": {
        "id": "OppcQFB-F8o8"
      },
      "source": [
        "class BaseResNet(nn.Module):\n",
        "    def __init__(self, block=None, num_residual_layers=None, image_channels=3, num_classes=1000):\n",
        "        super(BaseResNet, self).__init__()\n",
        "\n",
        "        self.in_channels = 64\n",
        "        self.conv = nn.Conv2d(in_channels=image_channels, out_channels=self.in_channels, kernel_size=7, stride=2, padding=3)\n",
        "        self.batchnorm = nn.BatchNorm2d(num_features=self.in_channels)\n",
        "        self.maxpool = nn.MaxPool2d(kernel_size=3, stride=2, padding=1)\n",
        "        self.relu = nn.ReLU()\n",
        "\n",
        "        self.layer1 = self.make_layers(block=block, num_residual_layers=num_residual_layers[0], out_channels=64, stride=1)\n",
        "        self.layer2 = self.make_layers(block=block, num_residual_layers=num_residual_layers[1], out_channels=128, stride=2)\n",
        "        self.layer3 = self.make_layers(block=block, num_residual_layers=num_residual_layers[2], out_channels=256, stride=2)\n",
        "        self.layer4 = self.make_layers(block=block, num_residual_layers=num_residual_layers[3], out_channels=512, stride=2)\n",
        "\n",
        "        self.avgpool = nn.AdaptiveAvgPool2d(output_size=(1, 1))\n",
        "        self.fc = nn.Linear(in_features=512, out_features=num_classes)\n",
        "    \n",
        "    def make_layers(self, block=None, num_residual_layers=None, out_channels=None, stride=None):\n",
        "        identity_downsample = None\n",
        "        layers = []\n",
        "\n",
        "        if stride != 1:\n",
        "            identity_downsample = nn.Sequential(nn.Conv2d(in_channels=self.in_channels, out_channels=out_channels, kernel_size=1, stride=stride),\n",
        "                                                nn.BatchNorm2d(num_features=out_channels, eps=1e-5))\n",
        "        layers.append(block(in_channels=self.in_channels, out_channels=out_channels, identity_downsample=identity_downsample, stride=stride))\n",
        "        self.in_channels = out_channels\n",
        "        for i in range(num_residual_layers-1):\n",
        "            layers.append(block(in_channels=self.in_channels, out_channels=out_channels))\n",
        "        \n",
        "        return nn.Sequential(*layers)\n",
        "\n",
        "    def forward(self, x):\n",
        "        x = F.relu(self.maxpool(self.batchnorm(self.conv(x))))\n",
        "        x = self.layer1(x)\n",
        "        x = self.layer2(x)\n",
        "        x = self.layer3(x)\n",
        "        x = self.layer4(x)\n",
        "        x = self.avgpool(x)\n",
        "        x = x.view(x.shape[0], -1)\n",
        "        x = self.fc(x)\n",
        "        return x"
      ],
      "execution_count": null,
      "outputs": []
    },
    {
      "cell_type": "code",
      "metadata": {
        "id": "-dJzdtZTQiF8"
      },
      "source": [
        "def ResNet18(image_channels=3, num_classes=1000):\n",
        "    return ResNet(block=Block, num_layers_in_block=[2, 2, 2, 2], image_channels=image_channels, num_classes=num_classes)\n",
        "\n",
        "def ResNet34(image_channels=3, num_classes=1000):\n",
        "    return ResNet(block=Block, num_layers_in_block=[3, 4, 6, 3], image_channels=image_channels, num_classes=num_classes)\n",
        "\n",
        "model = ResNet18()"
      ],
      "execution_count": null,
      "outputs": []
    },
    {
      "cell_type": "markdown",
      "metadata": {
        "id": "gStanyQNQYgM"
      },
      "source": [
        "# ResNet50, ResNet101, ResNet152"
      ]
    },
    {
      "cell_type": "code",
      "metadata": {
        "id": "YsIAiCbzQX39"
      },
      "source": [
        "class Block(nn.Module):\n",
        "    def __init__(self, in_channels=None, out_channels=None, identity_downsample=None, stride=1):\n",
        "        super(Block, self).__init__()\n",
        "        \n",
        "        self.expansion_factor = 4\n",
        "        self.identity_downsample = identity_downsample\n",
        "        self.relu = nn.ReLU()\n",
        "\n",
        "        self.conv1 = nn.Conv2d(in_channels=in_channels, out_channels=out_channels, kernel_size=1, stride=1, padding=0)\n",
        "        self.batchnorm1 = nn.BatchNorm2d(num_features=out_channels, eps=1e-5)\n",
        "        self.conv2 = nn.Conv2d(in_channels=out_channels, out_channels=out_channels, kernel_size=3, stride=stride, padding=1)\n",
        "        self.batchnorm2 = nn.BatchNorm2d(num_features=out_channels, eps=1e-5)\n",
        "        self.conv3 = nn.Conv2d(in_channels=out_channels, out_channels=out_channels*self.expansion_factor, kernel_size=1, stride=1, padding=0)\n",
        "        self.batchnorm3 = nn.BatchNorm2d(num_features=out_channels*self.expansion_factor, eps=1e-5)\n",
        "    \n",
        "    def forward(self, x):\n",
        "        identity = x\n",
        "\n",
        "        x = self.relu(self.batchnorm1(self.conv1(x)))\n",
        "        x = self.relu(self.batchnorm2(self.conv2(x)))\n",
        "        x = self.batchnorm3(self.conv3(x))\n",
        "\n",
        "        if self.identity_downsample is not None:\n",
        "            identity = self.identity_downsample(identity)\n",
        "        \n",
        "        x += identity\n",
        "        x = self.relu(x)\n",
        "        return x"
      ],
      "execution_count": null,
      "outputs": []
    },
    {
      "cell_type": "code",
      "metadata": {
        "id": "jO0Sj79zIiCZ"
      },
      "source": [
        "class ResNet(nn.Module):\n",
        "    def __init__(self, block=None, num_layers_in_block=None, image_channels=None, num_classes=1000):\n",
        "        super(ResNet, self).__init__()\n",
        "\n",
        "        self.in_channels = 64\n",
        "        self.relu = nn.ReLU()\n",
        "\n",
        "        self.maxpool = nn.MaxPool2d(kernel_size=3, stride=2, padding=1)\n",
        "        self.avgpool = nn.AdaptiveAvgPool2d(output_size=(1, 1))\n",
        "\n",
        "        self.conv1 = nn.Conv2d(in_channels=image_channels, out_channels=self.in_channels, kernel_size=7, stride=2, padding=3)\n",
        "        self.batchnorm1 = nn.BatchNorm2d(num_features=self.in_channels, eps=1e-5)\n",
        "\n",
        "        self.layer1 = self.make_layers(block=block, num_layers_in_block=num_layers_in_block[0], out_channels=64, stride=1)\n",
        "        self.layer2 = self.make_layers(block=block, num_layers_in_block=num_layers_in_block[1], out_channels=128, stride=2)\n",
        "        self.layer3 = self.make_layers(block=block, num_layers_in_block=num_layers_in_block[2], out_channels=256, stride=2)\n",
        "        self.layer4 = self.make_layers(block=block, num_layers_in_block=num_layers_in_block[3], out_channels=512, stride=2)\n",
        "\n",
        "        self.fc = nn.Linear(in_features=512*4, out_features=num_classes)\n",
        "\n",
        "    def make_layers(self, block=None, num_layers_in_block=None, out_channels=None, stride=None):\n",
        "        identity_downsample = None\n",
        "        layers = []\n",
        "\n",
        "        if stride != 1 and self.in_channels != (out_channels*4):\n",
        "            identity_downsample = nn.Sequential(nn.Conv2d(in_channels=self.in_channels, out_channels=out_channels*4, kernel_size=1, stride=stride),\n",
        "                                                nn.BatchNorm2d(num_features=out_channels*4, eps=1e-5))\n",
        "        \n",
        "        layers.append(block(in_channels=self.in_channels, out_channels=out_channels, identity_downsample=identity_downsample, stride=stride))\n",
        "        self.in_channels = out_channels*4\n",
        "\n",
        "        for i in range(num_layers_in_block-1):\n",
        "            layers.append(block(in_channels=self.in_channels, out_channels=out_channels))\n",
        "        \n",
        "        return nn.Sequential(*layers)\n",
        "    \n",
        "    def forward(self, x):\n",
        "        x = self.maxpool(self.relu(self.batchnorm1(self.conv1(x))))\n",
        "        x = self.layer1(x)\n",
        "        x = self.layer2(x)\n",
        "        x = self.layer3(x)\n",
        "        x = self.layer4(x)\n",
        "        x = self.avgpool(x)\n",
        "        x = x.view(x.shape[0], -1)\n",
        "        x = self.fc(x)\n",
        "        return x"
      ],
      "execution_count": null,
      "outputs": []
    },
    {
      "cell_type": "code",
      "metadata": {
        "id": "otCYEXGOQfnk"
      },
      "source": [
        "def ResNet50(image_channels=3, num_classes=1000):\n",
        "    return ResNet(block=Block, num_layers_in_block=[3, 4, 6, 3], image_channels=image_channels, num_classes=num_classes)\n",
        "\n",
        "def ResNet101(image_channels=3, num_classes=1000):\n",
        "    return ResNet(block=Block, num_layers_in_block=[3, 4, 23, 3], image_channels=image_channels, num_classes=num_classes)\n",
        "\n",
        "def ResNet152(image_channels=3, num_classes=1000):\n",
        "    return ResNet(block=Block, num_layers_in_block=[3, 8, 36, 3], image_channels=image_channels, num_classes=num_classes)\n",
        "\n",
        "model = ResNet50()"
      ],
      "execution_count": null,
      "outputs": []
    }
  ]
}