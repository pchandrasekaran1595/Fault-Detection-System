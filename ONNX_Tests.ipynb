{
  "nbformat": 4,
  "nbformat_minor": 0,
  "metadata": {
    "colab": {
      "name": "ONNX Tests",
      "provenance": [],
      "authorship_tag": "ABX9TyOhxN07aHPrHigaX/7DnOzn",
      "include_colab_link": true
    },
    "kernelspec": {
      "name": "python3",
      "display_name": "Python 3"
    },
    "language_info": {
      "name": "python"
    },
    "widgets": {
      "application/vnd.jupyter.widget-state+json": {
        "4aa527fcf6d5457cba4893bf6d22d8cd": {
          "model_module": "@jupyter-widgets/controls",
          "model_name": "HBoxModel",
          "state": {
            "_view_name": "HBoxView",
            "_dom_classes": [],
            "_model_name": "HBoxModel",
            "_view_module": "@jupyter-widgets/controls",
            "_model_module_version": "1.5.0",
            "_view_count": null,
            "_view_module_version": "1.5.0",
            "box_style": "",
            "layout": "IPY_MODEL_85cc7e01f8f3488ea2956e28e8f89258",
            "_model_module": "@jupyter-widgets/controls",
            "children": [
              "IPY_MODEL_8253682eae8e425baadfa65ed78095cc",
              "IPY_MODEL_d4acfdaa55a44b30aebed5f1f7b77e7f"
            ]
          }
        },
        "85cc7e01f8f3488ea2956e28e8f89258": {
          "model_module": "@jupyter-widgets/base",
          "model_name": "LayoutModel",
          "state": {
            "_view_name": "LayoutView",
            "grid_template_rows": null,
            "right": null,
            "justify_content": null,
            "_view_module": "@jupyter-widgets/base",
            "overflow": null,
            "_model_module_version": "1.2.0",
            "_view_count": null,
            "flex_flow": null,
            "width": null,
            "min_width": null,
            "border": null,
            "align_items": null,
            "bottom": null,
            "_model_module": "@jupyter-widgets/base",
            "top": null,
            "grid_column": null,
            "overflow_y": null,
            "overflow_x": null,
            "grid_auto_flow": null,
            "grid_area": null,
            "grid_template_columns": null,
            "flex": null,
            "_model_name": "LayoutModel",
            "justify_items": null,
            "grid_row": null,
            "max_height": null,
            "align_content": null,
            "visibility": null,
            "align_self": null,
            "height": null,
            "min_height": null,
            "padding": null,
            "grid_auto_rows": null,
            "grid_gap": null,
            "max_width": null,
            "order": null,
            "_view_module_version": "1.2.0",
            "grid_template_areas": null,
            "object_position": null,
            "object_fit": null,
            "grid_auto_columns": null,
            "margin": null,
            "display": null,
            "left": null
          }
        },
        "8253682eae8e425baadfa65ed78095cc": {
          "model_module": "@jupyter-widgets/controls",
          "model_name": "FloatProgressModel",
          "state": {
            "_view_name": "ProgressView",
            "style": "IPY_MODEL_2ec9d4de5ffb4e0483c7ac088afd0067",
            "_dom_classes": [],
            "description": "100%",
            "_model_name": "FloatProgressModel",
            "bar_style": "success",
            "max": 46830571,
            "_view_module": "@jupyter-widgets/controls",
            "_model_module_version": "1.5.0",
            "value": 46830571,
            "_view_count": null,
            "_view_module_version": "1.5.0",
            "orientation": "horizontal",
            "min": 0,
            "description_tooltip": null,
            "_model_module": "@jupyter-widgets/controls",
            "layout": "IPY_MODEL_00ad3216b1fb47fda0da0e66f2e2a06c"
          }
        },
        "d4acfdaa55a44b30aebed5f1f7b77e7f": {
          "model_module": "@jupyter-widgets/controls",
          "model_name": "HTMLModel",
          "state": {
            "_view_name": "HTMLView",
            "style": "IPY_MODEL_4ffa75d25bde4232b06f2ca2cc06eafc",
            "_dom_classes": [],
            "description": "",
            "_model_name": "HTMLModel",
            "placeholder": "​",
            "_view_module": "@jupyter-widgets/controls",
            "_model_module_version": "1.5.0",
            "value": " 44.7M/44.7M [00:00&lt;00:00, 69.8MB/s]",
            "_view_count": null,
            "_view_module_version": "1.5.0",
            "description_tooltip": null,
            "_model_module": "@jupyter-widgets/controls",
            "layout": "IPY_MODEL_6856c0389cfb43f8b16d52b4b5e1d8d9"
          }
        },
        "2ec9d4de5ffb4e0483c7ac088afd0067": {
          "model_module": "@jupyter-widgets/controls",
          "model_name": "ProgressStyleModel",
          "state": {
            "_view_name": "StyleView",
            "_model_name": "ProgressStyleModel",
            "description_width": "initial",
            "_view_module": "@jupyter-widgets/base",
            "_model_module_version": "1.5.0",
            "_view_count": null,
            "_view_module_version": "1.2.0",
            "bar_color": null,
            "_model_module": "@jupyter-widgets/controls"
          }
        },
        "00ad3216b1fb47fda0da0e66f2e2a06c": {
          "model_module": "@jupyter-widgets/base",
          "model_name": "LayoutModel",
          "state": {
            "_view_name": "LayoutView",
            "grid_template_rows": null,
            "right": null,
            "justify_content": null,
            "_view_module": "@jupyter-widgets/base",
            "overflow": null,
            "_model_module_version": "1.2.0",
            "_view_count": null,
            "flex_flow": null,
            "width": null,
            "min_width": null,
            "border": null,
            "align_items": null,
            "bottom": null,
            "_model_module": "@jupyter-widgets/base",
            "top": null,
            "grid_column": null,
            "overflow_y": null,
            "overflow_x": null,
            "grid_auto_flow": null,
            "grid_area": null,
            "grid_template_columns": null,
            "flex": null,
            "_model_name": "LayoutModel",
            "justify_items": null,
            "grid_row": null,
            "max_height": null,
            "align_content": null,
            "visibility": null,
            "align_self": null,
            "height": null,
            "min_height": null,
            "padding": null,
            "grid_auto_rows": null,
            "grid_gap": null,
            "max_width": null,
            "order": null,
            "_view_module_version": "1.2.0",
            "grid_template_areas": null,
            "object_position": null,
            "object_fit": null,
            "grid_auto_columns": null,
            "margin": null,
            "display": null,
            "left": null
          }
        },
        "4ffa75d25bde4232b06f2ca2cc06eafc": {
          "model_module": "@jupyter-widgets/controls",
          "model_name": "DescriptionStyleModel",
          "state": {
            "_view_name": "StyleView",
            "_model_name": "DescriptionStyleModel",
            "description_width": "",
            "_view_module": "@jupyter-widgets/base",
            "_model_module_version": "1.5.0",
            "_view_count": null,
            "_view_module_version": "1.2.0",
            "_model_module": "@jupyter-widgets/controls"
          }
        },
        "6856c0389cfb43f8b16d52b4b5e1d8d9": {
          "model_module": "@jupyter-widgets/base",
          "model_name": "LayoutModel",
          "state": {
            "_view_name": "LayoutView",
            "grid_template_rows": null,
            "right": null,
            "justify_content": null,
            "_view_module": "@jupyter-widgets/base",
            "overflow": null,
            "_model_module_version": "1.2.0",
            "_view_count": null,
            "flex_flow": null,
            "width": null,
            "min_width": null,
            "border": null,
            "align_items": null,
            "bottom": null,
            "_model_module": "@jupyter-widgets/base",
            "top": null,
            "grid_column": null,
            "overflow_y": null,
            "overflow_x": null,
            "grid_auto_flow": null,
            "grid_area": null,
            "grid_template_columns": null,
            "flex": null,
            "_model_name": "LayoutModel",
            "justify_items": null,
            "grid_row": null,
            "max_height": null,
            "align_content": null,
            "visibility": null,
            "align_self": null,
            "height": null,
            "min_height": null,
            "padding": null,
            "grid_auto_rows": null,
            "grid_gap": null,
            "max_width": null,
            "order": null,
            "_view_module_version": "1.2.0",
            "grid_template_areas": null,
            "object_position": null,
            "object_fit": null,
            "grid_auto_columns": null,
            "margin": null,
            "display": null,
            "left": null
          }
        }
      }
    }
  },
  "cells": [
    {
      "cell_type": "markdown",
      "metadata": {
        "id": "view-in-github",
        "colab_type": "text"
      },
      "source": [
        "<a href=\"https://colab.research.google.com/github/123prashanth123/Fault-Detection-System/blob/Colabs/ONNX_Tests.ipynb\" target=\"_parent\"><img src=\"https://colab.research.google.com/assets/colab-badge.svg\" alt=\"Open In Colab\"/></a>"
      ]
    },
    {
      "cell_type": "code",
      "metadata": {
        "id": "CcvMgvOALp9N"
      },
      "source": [
        "import torch\n",
        "from torch import nn\n",
        "from torchvision import models, ops, transforms\n",
        "from IPython.display import clear_output\n",
        "\n",
        "seed = 0"
      ],
      "execution_count": 2,
      "outputs": []
    },
    {
      "cell_type": "code",
      "metadata": {
        "colab": {
          "base_uri": "https://localhost:8080/",
          "height": 83,
          "referenced_widgets": [
            "4aa527fcf6d5457cba4893bf6d22d8cd",
            "85cc7e01f8f3488ea2956e28e8f89258",
            "8253682eae8e425baadfa65ed78095cc",
            "d4acfdaa55a44b30aebed5f1f7b77e7f",
            "2ec9d4de5ffb4e0483c7ac088afd0067",
            "00ad3216b1fb47fda0da0e66f2e2a06c",
            "4ffa75d25bde4232b06f2ca2cc06eafc",
            "6856c0389cfb43f8b16d52b4b5e1d8d9"
          ]
        },
        "id": "wjjybn64M5e7",
        "outputId": "fffdabf3-70f3-449f-d2f8-983856ea71b3"
      },
      "source": [
        "class Model(nn.Module):\n",
        "    def __init__(self):\n",
        "        super(Model, self).__init__()\n",
        "        self.model = models.resnet18(pretrained=True, progress=True)\n",
        "        for params in self.model.parameters():\n",
        "            params.requires_grad = False\n",
        "        self.model = nn.Sequential(*[*self.model.children()][:-1])\n",
        "    \n",
        "    def forward(self, x):\n",
        "        return self.model(x)\n",
        "\n",
        "model = Model()\n",
        "model.eval()\n",
        "\n",
        "for names, params in model.named_parameters():\n",
        "    if params.requires_grad:\n",
        "        print(names)"
      ],
      "execution_count": 4,
      "outputs": [
        {
          "output_type": "stream",
          "text": [
            "Downloading: \"https://download.pytorch.org/models/resnet18-f37072fd.pth\" to /root/.cache/torch/hub/checkpoints/resnet18-f37072fd.pth\n"
          ],
          "name": "stderr"
        },
        {
          "output_type": "display_data",
          "data": {
            "application/vnd.jupyter.widget-view+json": {
              "model_id": "4aa527fcf6d5457cba4893bf6d22d8cd",
              "version_minor": 0,
              "version_major": 2
            },
            "text/plain": [
              "HBox(children=(FloatProgress(value=0.0, max=46830571.0), HTML(value='')))"
            ]
          },
          "metadata": {
            "tags": []
          }
        },
        {
          "output_type": "stream",
          "text": [
            "\n"
          ],
          "name": "stdout"
        }
      ]
    },
    {
      "cell_type": "code",
      "metadata": {
        "colab": {
          "base_uri": "https://localhost:8080/"
        },
        "id": "TUUs11DZOCmj",
        "outputId": "7120509c-d6f6-4514-a669-88399fa9c112"
      },
      "source": [
        "save_name = \"resnet18.onnx\"\n",
        "torch.onnx.export(model, args=torch.rand(1, 3, 224, 224), f=save_name, verbose=True, input_names=[\"data\"], output_names=[\"outputs\"])"
      ],
      "execution_count": 6,
      "outputs": [
        {
          "output_type": "stream",
          "text": [
            "/usr/local/lib/python3.7/dist-packages/torch/nn/functional.py:718: UserWarning: Named tensors and all their associated APIs are an experimental feature and subject to change. Please do not use them for anything important until they are released as stable. (Triggered internally at  /pytorch/c10/core/TensorImpl.h:1156.)\n",
            "  return torch.max_pool2d(input, kernel_size, stride, padding, dilation, ceil_mode)\n"
          ],
          "name": "stderr"
        },
        {
          "output_type": "stream",
          "text": [
            "graph(%data : Float(1, 3, 224, 224, strides=[150528, 50176, 224, 1], requires_grad=0, device=cpu),\n",
            "      %189 : Float(64, 3, 7, 7, strides=[147, 49, 7, 1], requires_grad=0, device=cpu),\n",
            "      %190 : Float(64, strides=[1], requires_grad=0, device=cpu),\n",
            "      %192 : Float(64, 64, 3, 3, strides=[576, 9, 3, 1], requires_grad=0, device=cpu),\n",
            "      %193 : Float(64, strides=[1], requires_grad=0, device=cpu),\n",
            "      %195 : Float(64, 64, 3, 3, strides=[576, 9, 3, 1], requires_grad=0, device=cpu),\n",
            "      %196 : Float(64, strides=[1], requires_grad=0, device=cpu),\n",
            "      %198 : Float(64, 64, 3, 3, strides=[576, 9, 3, 1], requires_grad=0, device=cpu),\n",
            "      %199 : Float(64, strides=[1], requires_grad=0, device=cpu),\n",
            "      %201 : Float(64, 64, 3, 3, strides=[576, 9, 3, 1], requires_grad=0, device=cpu),\n",
            "      %202 : Float(64, strides=[1], requires_grad=0, device=cpu),\n",
            "      %204 : Float(128, 64, 3, 3, strides=[576, 9, 3, 1], requires_grad=0, device=cpu),\n",
            "      %205 : Float(128, strides=[1], requires_grad=0, device=cpu),\n",
            "      %207 : Float(128, 128, 3, 3, strides=[1152, 9, 3, 1], requires_grad=0, device=cpu),\n",
            "      %208 : Float(128, strides=[1], requires_grad=0, device=cpu),\n",
            "      %210 : Float(128, 64, 1, 1, strides=[64, 1, 1, 1], requires_grad=0, device=cpu),\n",
            "      %211 : Float(128, strides=[1], requires_grad=0, device=cpu),\n",
            "      %213 : Float(128, 128, 3, 3, strides=[1152, 9, 3, 1], requires_grad=0, device=cpu),\n",
            "      %214 : Float(128, strides=[1], requires_grad=0, device=cpu),\n",
            "      %216 : Float(128, 128, 3, 3, strides=[1152, 9, 3, 1], requires_grad=0, device=cpu),\n",
            "      %217 : Float(128, strides=[1], requires_grad=0, device=cpu),\n",
            "      %219 : Float(256, 128, 3, 3, strides=[1152, 9, 3, 1], requires_grad=0, device=cpu),\n",
            "      %220 : Float(256, strides=[1], requires_grad=0, device=cpu),\n",
            "      %222 : Float(256, 256, 3, 3, strides=[2304, 9, 3, 1], requires_grad=0, device=cpu),\n",
            "      %223 : Float(256, strides=[1], requires_grad=0, device=cpu),\n",
            "      %225 : Float(256, 128, 1, 1, strides=[128, 1, 1, 1], requires_grad=0, device=cpu),\n",
            "      %226 : Float(256, strides=[1], requires_grad=0, device=cpu),\n",
            "      %228 : Float(256, 256, 3, 3, strides=[2304, 9, 3, 1], requires_grad=0, device=cpu),\n",
            "      %229 : Float(256, strides=[1], requires_grad=0, device=cpu),\n",
            "      %231 : Float(256, 256, 3, 3, strides=[2304, 9, 3, 1], requires_grad=0, device=cpu),\n",
            "      %232 : Float(256, strides=[1], requires_grad=0, device=cpu),\n",
            "      %234 : Float(512, 256, 3, 3, strides=[2304, 9, 3, 1], requires_grad=0, device=cpu),\n",
            "      %235 : Float(512, strides=[1], requires_grad=0, device=cpu),\n",
            "      %237 : Float(512, 512, 3, 3, strides=[4608, 9, 3, 1], requires_grad=0, device=cpu),\n",
            "      %238 : Float(512, strides=[1], requires_grad=0, device=cpu),\n",
            "      %240 : Float(512, 256, 1, 1, strides=[256, 1, 1, 1], requires_grad=0, device=cpu),\n",
            "      %241 : Float(512, strides=[1], requires_grad=0, device=cpu),\n",
            "      %243 : Float(512, 512, 3, 3, strides=[4608, 9, 3, 1], requires_grad=0, device=cpu),\n",
            "      %244 : Float(512, strides=[1], requires_grad=0, device=cpu),\n",
            "      %246 : Float(512, 512, 3, 3, strides=[4608, 9, 3, 1], requires_grad=0, device=cpu),\n",
            "      %247 : Float(512, strides=[1], requires_grad=0, device=cpu)):\n",
            "  %188 : Float(1, 64, 112, 112, strides=[802816, 12544, 112, 1], requires_grad=0, device=cpu) = onnx::Conv[dilations=[1, 1], group=1, kernel_shape=[7, 7], pads=[3, 3, 3, 3], strides=[2, 2]](%data, %189, %190)\n",
            "  %123 : Float(1, 64, 112, 112, strides=[802816, 12544, 112, 1], requires_grad=0, device=cpu) = onnx::Relu(%188) # /usr/local/lib/python3.7/dist-packages/torch/nn/functional.py:1296:0\n",
            "  %124 : Float(1, 64, 56, 56, strides=[200704, 3136, 56, 1], requires_grad=0, device=cpu) = onnx::MaxPool[kernel_shape=[3, 3], pads=[1, 1, 1, 1], strides=[2, 2]](%123)\n",
            "  %191 : Float(1, 64, 56, 56, strides=[200704, 3136, 56, 1], requires_grad=0, device=cpu) = onnx::Conv[dilations=[1, 1], group=1, kernel_shape=[3, 3], pads=[1, 1, 1, 1], strides=[1, 1]](%124, %192, %193)\n",
            "  %127 : Float(1, 64, 56, 56, strides=[200704, 3136, 56, 1], requires_grad=0, device=cpu) = onnx::Relu(%191) # /usr/local/lib/python3.7/dist-packages/torch/nn/functional.py:1296:0\n",
            "  %194 : Float(1, 64, 56, 56, strides=[200704, 3136, 56, 1], requires_grad=0, device=cpu) = onnx::Conv[dilations=[1, 1], group=1, kernel_shape=[3, 3], pads=[1, 1, 1, 1], strides=[1, 1]](%127, %195, %196)\n",
            "  %130 : Float(1, 64, 56, 56, strides=[200704, 3136, 56, 1], requires_grad=0, device=cpu) = onnx::Add(%194, %124) # /usr/local/lib/python3.7/dist-packages/torchvision/models/resnet.py:80:0\n",
            "  %131 : Float(1, 64, 56, 56, strides=[200704, 3136, 56, 1], requires_grad=0, device=cpu) = onnx::Relu(%130)\n",
            "  %197 : Float(1, 64, 56, 56, strides=[200704, 3136, 56, 1], requires_grad=0, device=cpu) = onnx::Conv[dilations=[1, 1], group=1, kernel_shape=[3, 3], pads=[1, 1, 1, 1], strides=[1, 1]](%131, %198, %199)\n",
            "  %134 : Float(1, 64, 56, 56, strides=[200704, 3136, 56, 1], requires_grad=0, device=cpu) = onnx::Relu(%197) # /usr/local/lib/python3.7/dist-packages/torch/nn/functional.py:1296:0\n",
            "  %200 : Float(1, 64, 56, 56, strides=[200704, 3136, 56, 1], requires_grad=0, device=cpu) = onnx::Conv[dilations=[1, 1], group=1, kernel_shape=[3, 3], pads=[1, 1, 1, 1], strides=[1, 1]](%134, %201, %202)\n",
            "  %137 : Float(1, 64, 56, 56, strides=[200704, 3136, 56, 1], requires_grad=0, device=cpu) = onnx::Add(%200, %131) # /usr/local/lib/python3.7/dist-packages/torchvision/models/resnet.py:80:0\n",
            "  %138 : Float(1, 64, 56, 56, strides=[200704, 3136, 56, 1], requires_grad=0, device=cpu) = onnx::Relu(%137) # /usr/local/lib/python3.7/dist-packages/torch/nn/functional.py:1296:0\n",
            "  %203 : Float(1, 128, 28, 28, strides=[100352, 784, 28, 1], requires_grad=0, device=cpu) = onnx::Conv[dilations=[1, 1], group=1, kernel_shape=[3, 3], pads=[1, 1, 1, 1], strides=[2, 2]](%138, %204, %205)\n",
            "  %141 : Float(1, 128, 28, 28, strides=[100352, 784, 28, 1], requires_grad=0, device=cpu) = onnx::Relu(%203) # /usr/local/lib/python3.7/dist-packages/torch/nn/functional.py:1296:0\n",
            "  %206 : Float(1, 128, 28, 28, strides=[100352, 784, 28, 1], requires_grad=0, device=cpu) = onnx::Conv[dilations=[1, 1], group=1, kernel_shape=[3, 3], pads=[1, 1, 1, 1], strides=[1, 1]](%141, %207, %208)\n",
            "  %209 : Float(1, 128, 28, 28, strides=[100352, 784, 28, 1], requires_grad=0, device=cpu) = onnx::Conv[dilations=[1, 1], group=1, kernel_shape=[1, 1], pads=[0, 0, 0, 0], strides=[2, 2]](%138, %210, %211)\n",
            "  %146 : Float(1, 128, 28, 28, strides=[100352, 784, 28, 1], requires_grad=0, device=cpu) = onnx::Add(%206, %209) # /usr/local/lib/python3.7/dist-packages/torchvision/models/resnet.py:80:0\n",
            "  %147 : Float(1, 128, 28, 28, strides=[100352, 784, 28, 1], requires_grad=0, device=cpu) = onnx::Relu(%146)\n",
            "  %212 : Float(1, 128, 28, 28, strides=[100352, 784, 28, 1], requires_grad=0, device=cpu) = onnx::Conv[dilations=[1, 1], group=1, kernel_shape=[3, 3], pads=[1, 1, 1, 1], strides=[1, 1]](%147, %213, %214)\n",
            "  %150 : Float(1, 128, 28, 28, strides=[100352, 784, 28, 1], requires_grad=0, device=cpu) = onnx::Relu(%212) # /usr/local/lib/python3.7/dist-packages/torch/nn/functional.py:1296:0\n",
            "  %215 : Float(1, 128, 28, 28, strides=[100352, 784, 28, 1], requires_grad=0, device=cpu) = onnx::Conv[dilations=[1, 1], group=1, kernel_shape=[3, 3], pads=[1, 1, 1, 1], strides=[1, 1]](%150, %216, %217)\n",
            "  %153 : Float(1, 128, 28, 28, strides=[100352, 784, 28, 1], requires_grad=0, device=cpu) = onnx::Add(%215, %147) # /usr/local/lib/python3.7/dist-packages/torchvision/models/resnet.py:80:0\n",
            "  %154 : Float(1, 128, 28, 28, strides=[100352, 784, 28, 1], requires_grad=0, device=cpu) = onnx::Relu(%153) # /usr/local/lib/python3.7/dist-packages/torch/nn/functional.py:1296:0\n",
            "  %218 : Float(1, 256, 14, 14, strides=[50176, 196, 14, 1], requires_grad=0, device=cpu) = onnx::Conv[dilations=[1, 1], group=1, kernel_shape=[3, 3], pads=[1, 1, 1, 1], strides=[2, 2]](%154, %219, %220)\n",
            "  %157 : Float(1, 256, 14, 14, strides=[50176, 196, 14, 1], requires_grad=0, device=cpu) = onnx::Relu(%218) # /usr/local/lib/python3.7/dist-packages/torch/nn/functional.py:1296:0\n",
            "  %221 : Float(1, 256, 14, 14, strides=[50176, 196, 14, 1], requires_grad=0, device=cpu) = onnx::Conv[dilations=[1, 1], group=1, kernel_shape=[3, 3], pads=[1, 1, 1, 1], strides=[1, 1]](%157, %222, %223)\n",
            "  %224 : Float(1, 256, 14, 14, strides=[50176, 196, 14, 1], requires_grad=0, device=cpu) = onnx::Conv[dilations=[1, 1], group=1, kernel_shape=[1, 1], pads=[0, 0, 0, 0], strides=[2, 2]](%154, %225, %226)\n",
            "  %162 : Float(1, 256, 14, 14, strides=[50176, 196, 14, 1], requires_grad=0, device=cpu) = onnx::Add(%221, %224) # /usr/local/lib/python3.7/dist-packages/torchvision/models/resnet.py:80:0\n",
            "  %163 : Float(1, 256, 14, 14, strides=[50176, 196, 14, 1], requires_grad=0, device=cpu) = onnx::Relu(%162)\n",
            "  %227 : Float(1, 256, 14, 14, strides=[50176, 196, 14, 1], requires_grad=0, device=cpu) = onnx::Conv[dilations=[1, 1], group=1, kernel_shape=[3, 3], pads=[1, 1, 1, 1], strides=[1, 1]](%163, %228, %229)\n",
            "  %166 : Float(1, 256, 14, 14, strides=[50176, 196, 14, 1], requires_grad=0, device=cpu) = onnx::Relu(%227) # /usr/local/lib/python3.7/dist-packages/torch/nn/functional.py:1296:0\n",
            "  %230 : Float(1, 256, 14, 14, strides=[50176, 196, 14, 1], requires_grad=0, device=cpu) = onnx::Conv[dilations=[1, 1], group=1, kernel_shape=[3, 3], pads=[1, 1, 1, 1], strides=[1, 1]](%166, %231, %232)\n",
            "  %169 : Float(1, 256, 14, 14, strides=[50176, 196, 14, 1], requires_grad=0, device=cpu) = onnx::Add(%230, %163) # /usr/local/lib/python3.7/dist-packages/torchvision/models/resnet.py:80:0\n",
            "  %170 : Float(1, 256, 14, 14, strides=[50176, 196, 14, 1], requires_grad=0, device=cpu) = onnx::Relu(%169) # /usr/local/lib/python3.7/dist-packages/torch/nn/functional.py:1296:0\n",
            "  %233 : Float(1, 512, 7, 7, strides=[25088, 49, 7, 1], requires_grad=0, device=cpu) = onnx::Conv[dilations=[1, 1], group=1, kernel_shape=[3, 3], pads=[1, 1, 1, 1], strides=[2, 2]](%170, %234, %235)\n",
            "  %173 : Float(1, 512, 7, 7, strides=[25088, 49, 7, 1], requires_grad=0, device=cpu) = onnx::Relu(%233) # /usr/local/lib/python3.7/dist-packages/torch/nn/functional.py:1296:0\n",
            "  %236 : Float(1, 512, 7, 7, strides=[25088, 49, 7, 1], requires_grad=0, device=cpu) = onnx::Conv[dilations=[1, 1], group=1, kernel_shape=[3, 3], pads=[1, 1, 1, 1], strides=[1, 1]](%173, %237, %238)\n",
            "  %239 : Float(1, 512, 7, 7, strides=[25088, 49, 7, 1], requires_grad=0, device=cpu) = onnx::Conv[dilations=[1, 1], group=1, kernel_shape=[1, 1], pads=[0, 0, 0, 0], strides=[2, 2]](%170, %240, %241)\n",
            "  %178 : Float(1, 512, 7, 7, strides=[25088, 49, 7, 1], requires_grad=0, device=cpu) = onnx::Add(%236, %239) # /usr/local/lib/python3.7/dist-packages/torchvision/models/resnet.py:80:0\n",
            "  %179 : Float(1, 512, 7, 7, strides=[25088, 49, 7, 1], requires_grad=0, device=cpu) = onnx::Relu(%178)\n",
            "  %242 : Float(1, 512, 7, 7, strides=[25088, 49, 7, 1], requires_grad=0, device=cpu) = onnx::Conv[dilations=[1, 1], group=1, kernel_shape=[3, 3], pads=[1, 1, 1, 1], strides=[1, 1]](%179, %243, %244)\n",
            "  %182 : Float(1, 512, 7, 7, strides=[25088, 49, 7, 1], requires_grad=0, device=cpu) = onnx::Relu(%242) # /usr/local/lib/python3.7/dist-packages/torch/nn/functional.py:1296:0\n",
            "  %245 : Float(1, 512, 7, 7, strides=[25088, 49, 7, 1], requires_grad=0, device=cpu) = onnx::Conv[dilations=[1, 1], group=1, kernel_shape=[3, 3], pads=[1, 1, 1, 1], strides=[1, 1]](%182, %246, %247)\n",
            "  %185 : Float(1, 512, 7, 7, strides=[25088, 49, 7, 1], requires_grad=0, device=cpu) = onnx::Add(%245, %179) # /usr/local/lib/python3.7/dist-packages/torchvision/models/resnet.py:80:0\n",
            "  %186 : Float(1, 512, 7, 7, strides=[25088, 49, 7, 1], requires_grad=0, device=cpu) = onnx::Relu(%185) # /usr/local/lib/python3.7/dist-packages/torch/nn/functional.py:1296:0\n",
            "  %outputs : Float(1, 512, 1, 1, strides=[512, 1, 1, 1], requires_grad=0, device=cpu) = onnx::GlobalAveragePool(%186) # /usr/local/lib/python3.7/dist-packages/torch/nn/functional.py:1130:0\n",
            "  return (%outputs)\n",
            "\n"
          ],
          "name": "stdout"
        }
      ]
    },
    {
      "cell_type": "code",
      "metadata": {
        "id": "9A2RC-5Tk8ON"
      },
      "source": [
        ""
      ],
      "execution_count": null,
      "outputs": []
    }
  ]
}