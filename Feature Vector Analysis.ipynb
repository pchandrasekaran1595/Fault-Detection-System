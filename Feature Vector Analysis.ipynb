{
  "nbformat": 4,
  "nbformat_minor": 0,
  "metadata": {
    "colab": {
      "name": "Feature Vector Analysis",
      "provenance": [],
      "collapsed_sections": [],
      "authorship_tag": "ABX9TyN2gioDTz0MSrRLqIxO4AwB",
      "include_colab_link": true
    },
    "kernelspec": {
      "name": "python3",
      "display_name": "Python 3"
    },
    "language_info": {
      "name": "python"
    },
    "widgets": {
      "application/vnd.jupyter.widget-state+json": {
        "4198576931b7418ab457e4ed4d7fa80c": {
          "model_module": "@jupyter-widgets/controls",
          "model_name": "HBoxModel",
          "state": {
            "_view_name": "HBoxView",
            "_dom_classes": [],
            "_model_name": "HBoxModel",
            "_view_module": "@jupyter-widgets/controls",
            "_model_module_version": "1.5.0",
            "_view_count": null,
            "_view_module_version": "1.5.0",
            "box_style": "",
            "layout": "IPY_MODEL_a775b2d71ed841c8b210d9c3ef0dd386",
            "_model_module": "@jupyter-widgets/controls",
            "children": [
              "IPY_MODEL_71fb16e2129f48e58a87c019215c6631",
              "IPY_MODEL_155e67f0fe72406b9c7ce9793e990199"
            ]
          }
        },
        "a775b2d71ed841c8b210d9c3ef0dd386": {
          "model_module": "@jupyter-widgets/base",
          "model_name": "LayoutModel",
          "state": {
            "_view_name": "LayoutView",
            "grid_template_rows": null,
            "right": null,
            "justify_content": null,
            "_view_module": "@jupyter-widgets/base",
            "overflow": null,
            "_model_module_version": "1.2.0",
            "_view_count": null,
            "flex_flow": null,
            "width": null,
            "min_width": null,
            "border": null,
            "align_items": null,
            "bottom": null,
            "_model_module": "@jupyter-widgets/base",
            "top": null,
            "grid_column": null,
            "overflow_y": null,
            "overflow_x": null,
            "grid_auto_flow": null,
            "grid_area": null,
            "grid_template_columns": null,
            "flex": null,
            "_model_name": "LayoutModel",
            "justify_items": null,
            "grid_row": null,
            "max_height": null,
            "align_content": null,
            "visibility": null,
            "align_self": null,
            "height": null,
            "min_height": null,
            "padding": null,
            "grid_auto_rows": null,
            "grid_gap": null,
            "max_width": null,
            "order": null,
            "_view_module_version": "1.2.0",
            "grid_template_areas": null,
            "object_position": null,
            "object_fit": null,
            "grid_auto_columns": null,
            "margin": null,
            "display": null,
            "left": null
          }
        },
        "71fb16e2129f48e58a87c019215c6631": {
          "model_module": "@jupyter-widgets/controls",
          "model_name": "FloatProgressModel",
          "state": {
            "_view_name": "ProgressView",
            "style": "IPY_MODEL_af5a37b0085e4e18bd0b920ee61c1db9",
            "_dom_classes": [],
            "description": "100%",
            "_model_name": "FloatProgressModel",
            "bar_style": "success",
            "max": 553507836,
            "_view_module": "@jupyter-widgets/controls",
            "_model_module_version": "1.5.0",
            "value": 553507836,
            "_view_count": null,
            "_view_module_version": "1.5.0",
            "orientation": "horizontal",
            "min": 0,
            "description_tooltip": null,
            "_model_module": "@jupyter-widgets/controls",
            "layout": "IPY_MODEL_b12b495cd73b4ee8aae50b8dbeace6fb"
          }
        },
        "155e67f0fe72406b9c7ce9793e990199": {
          "model_module": "@jupyter-widgets/controls",
          "model_name": "HTMLModel",
          "state": {
            "_view_name": "HTMLView",
            "style": "IPY_MODEL_2e43850ebbdb4ba1aedadf2f5b54c51b",
            "_dom_classes": [],
            "description": "",
            "_model_name": "HTMLModel",
            "placeholder": "​",
            "_view_module": "@jupyter-widgets/controls",
            "_model_module_version": "1.5.0",
            "value": " 528M/528M [00:17&lt;00:00, 31.5MB/s]",
            "_view_count": null,
            "_view_module_version": "1.5.0",
            "description_tooltip": null,
            "_model_module": "@jupyter-widgets/controls",
            "layout": "IPY_MODEL_8d5f09c28b72430d8a59ac183e4b6b10"
          }
        },
        "af5a37b0085e4e18bd0b920ee61c1db9": {
          "model_module": "@jupyter-widgets/controls",
          "model_name": "ProgressStyleModel",
          "state": {
            "_view_name": "StyleView",
            "_model_name": "ProgressStyleModel",
            "description_width": "initial",
            "_view_module": "@jupyter-widgets/base",
            "_model_module_version": "1.5.0",
            "_view_count": null,
            "_view_module_version": "1.2.0",
            "bar_color": null,
            "_model_module": "@jupyter-widgets/controls"
          }
        },
        "b12b495cd73b4ee8aae50b8dbeace6fb": {
          "model_module": "@jupyter-widgets/base",
          "model_name": "LayoutModel",
          "state": {
            "_view_name": "LayoutView",
            "grid_template_rows": null,
            "right": null,
            "justify_content": null,
            "_view_module": "@jupyter-widgets/base",
            "overflow": null,
            "_model_module_version": "1.2.0",
            "_view_count": null,
            "flex_flow": null,
            "width": null,
            "min_width": null,
            "border": null,
            "align_items": null,
            "bottom": null,
            "_model_module": "@jupyter-widgets/base",
            "top": null,
            "grid_column": null,
            "overflow_y": null,
            "overflow_x": null,
            "grid_auto_flow": null,
            "grid_area": null,
            "grid_template_columns": null,
            "flex": null,
            "_model_name": "LayoutModel",
            "justify_items": null,
            "grid_row": null,
            "max_height": null,
            "align_content": null,
            "visibility": null,
            "align_self": null,
            "height": null,
            "min_height": null,
            "padding": null,
            "grid_auto_rows": null,
            "grid_gap": null,
            "max_width": null,
            "order": null,
            "_view_module_version": "1.2.0",
            "grid_template_areas": null,
            "object_position": null,
            "object_fit": null,
            "grid_auto_columns": null,
            "margin": null,
            "display": null,
            "left": null
          }
        },
        "2e43850ebbdb4ba1aedadf2f5b54c51b": {
          "model_module": "@jupyter-widgets/controls",
          "model_name": "DescriptionStyleModel",
          "state": {
            "_view_name": "StyleView",
            "_model_name": "DescriptionStyleModel",
            "description_width": "",
            "_view_module": "@jupyter-widgets/base",
            "_model_module_version": "1.5.0",
            "_view_count": null,
            "_view_module_version": "1.2.0",
            "_model_module": "@jupyter-widgets/controls"
          }
        },
        "8d5f09c28b72430d8a59ac183e4b6b10": {
          "model_module": "@jupyter-widgets/base",
          "model_name": "LayoutModel",
          "state": {
            "_view_name": "LayoutView",
            "grid_template_rows": null,
            "right": null,
            "justify_content": null,
            "_view_module": "@jupyter-widgets/base",
            "overflow": null,
            "_model_module_version": "1.2.0",
            "_view_count": null,
            "flex_flow": null,
            "width": null,
            "min_width": null,
            "border": null,
            "align_items": null,
            "bottom": null,
            "_model_module": "@jupyter-widgets/base",
            "top": null,
            "grid_column": null,
            "overflow_y": null,
            "overflow_x": null,
            "grid_auto_flow": null,
            "grid_area": null,
            "grid_template_columns": null,
            "flex": null,
            "_model_name": "LayoutModel",
            "justify_items": null,
            "grid_row": null,
            "max_height": null,
            "align_content": null,
            "visibility": null,
            "align_self": null,
            "height": null,
            "min_height": null,
            "padding": null,
            "grid_auto_rows": null,
            "grid_gap": null,
            "max_width": null,
            "order": null,
            "_view_module_version": "1.2.0",
            "grid_template_areas": null,
            "object_position": null,
            "object_fit": null,
            "grid_auto_columns": null,
            "margin": null,
            "display": null,
            "left": null
          }
        }
      }
    }
  },
  "cells": [
    {
      "cell_type": "markdown",
      "metadata": {
        "id": "view-in-github",
        "colab_type": "text"
      },
      "source": [
        "<a href=\"https://colab.research.google.com/github/123prashanth123/Fault-Detection-System/blob/Colabs/Feature%20Vector%20Analysis.ipynb\" target=\"_parent\"><img src=\"https://colab.research.google.com/assets/colab-badge.svg\" alt=\"Open In Colab\"/></a>"
      ]
    },
    {
      "cell_type": "markdown",
      "metadata": {
        "id": "-TVDuTBbU06q"
      },
      "source": [
        "# Notebook Setup"
      ]
    },
    {
      "cell_type": "code",
      "metadata": {
        "id": "W1ZbDtoPcel1"
      },
      "source": [
        "from IPython.display import clear_output\n",
        "from google.colab import drive\n",
        "\n",
        "drive.mount(\"/content/gdrive\")\n",
        "\n",
        "clear_output()"
      ],
      "execution_count": null,
      "outputs": []
    },
    {
      "cell_type": "code",
      "metadata": {
        "id": "jGl_i6dWc_DR"
      },
      "source": [
        "import os\n",
        "import re\n",
        "import cv2\n",
        "import numpy as np\n",
        "import matplotlib.pyplot as plt\n",
        "import random as r\n",
        "\n",
        "import torch\n",
        "from torch import nn\n",
        "from torchvision import models, transforms\n",
        "\n",
        "from sklearn.metrics.pairwise import manhattan_distances\n",
        "\n",
        "import warnings\n",
        "warnings.filterwarnings(\"ignore\")"
      ],
      "execution_count": null,
      "outputs": []
    },
    {
      "cell_type": "code",
      "metadata": {
        "id": "zcXAcZCNc085"
      },
      "source": [
        "PATH = \"/content/gdrive/My Drive/Datasets/FDS\"\n",
        "POSITIVE_DIR = os.path.join(PATH, \"Positive Images\")\n",
        "NEGATIVE_DIR = os.path.join(PATH, \"Negative Images\")\n",
        "SEED = 0\n",
        "\n",
        "def breaker(num=50, char='*'):\n",
        "    print(\"\\n\" + num*char + \"\\n\")\n",
        "\n",
        "def preprocess(image):\n",
        "    image = cv2.cvtColor(src=image, code=cv2.COLOR_BGR2RGB)\n",
        "    image = cv2.resize(src=image, dsize=(256, 256), interpolation=cv2.INTER_AREA)\n",
        "    h, w, _ = image.shape\n",
        "    relief = 112\n",
        "    cx, cy = w // 2, h // 2\n",
        "    return image[cy - relief:cy + relief, cx - relief:cx + relief, :]\n",
        "\n",
        "def morph(image=None):\n",
        "    return cv2.morphologyEx(src=image, op=cv2.MORPH_CLOSE, kernel=np.ones((15, 15)))"
      ],
      "execution_count": null,
      "outputs": []
    },
    {
      "cell_type": "markdown",
      "metadata": {
        "id": "gU4bI0qqU45H"
      },
      "source": [
        "# Feature Extraction Model"
      ]
    },
    {
      "cell_type": "code",
      "metadata": {
        "id": "ADK0WubgdObH"
      },
      "source": [
        "def build_model():\n",
        "    breaker()\n",
        "    print(\"Building Feature Extractor ....\")\n",
        "\n",
        "    class FeatureExtractor(nn.Module):\n",
        "        def __init__(self, name=\"resnet50\"):\n",
        "            super(FeatureExtractor, self).__init__()\n",
        "\n",
        "            self.name = name\n",
        "            self.device = torch.device(\"cuda\" if torch.cuda.is_available() else \"cpu\")\n",
        "            self.transform = transforms.Compose([transforms.ToTensor(), transforms.Normalize([0.485, 0.456, 0.406], [0.229, 0.224, 0.225]),])\n",
        "\n",
        "            if re.match(r\"resnet50\", name, re.IGNORECASE):\n",
        "                self.model = models.resnet50(pretrained=True, progress=True)\n",
        "                self.model = nn.Sequential(*[*self.model.children()][:-1])\n",
        "                self.model.add_module(\"Flatten\", nn.Flatten())\n",
        "            \n",
        "            elif re.match(r\"vgg16bn\", name, re.IGNORECASE):\n",
        "                self.model = models.vgg16_bn(pretrained=True,progress=True)\n",
        "                self.model = nn.Sequential(*[*self.model.children()][:-2])\n",
        "                self.model.add_module(\"Adaptive Average Pool\", nn.AdaptiveAvgPool2d(output_size=(2, 2)))\n",
        "                self.model.add_module(\"Flatten\", nn.Flatten())\n",
        "        \n",
        "\n",
        "        def forward(self, x):\n",
        "            return self.model(x)\n",
        "        \n",
        "\n",
        "        def normalize(self, x):\n",
        "            for i in range(x.shape[0]):\n",
        "                x[i] = (x[i] - torch.min(x[i])) / (torch.max(x[i]) - torch.min(x[i]))\n",
        "            return x\n",
        "        \n",
        "\n",
        "        def get_features(self, image):\n",
        "            self.to(self.device)\n",
        "            with torch.no_grad():\n",
        "                features = self(self.transform(image).to(self.device).unsqueeze(dim=0))\n",
        "            return self.normalize(features).detach().cpu(), self.normalize(features).detach().cpu().numpy()\n",
        "\n",
        "\n",
        "    model = FeatureExtractor(name=\"vgg16bn\")\n",
        "    model.eval()\n",
        "\n",
        "    return model"
      ],
      "execution_count": null,
      "outputs": []
    },
    {
      "cell_type": "markdown",
      "metadata": {
        "id": "V2FOiLk5VIA3"
      },
      "source": [
        "# Analyze Features"
      ]
    },
    {
      "cell_type": "code",
      "metadata": {
        "id": "GK8vlXNGoFNk"
      },
      "source": [
        "def analyze_features(model=None, pos_path=None, neg_path=None):\n",
        "    breaker()\n",
        "    print(\"Analyzing Features ....\")\n",
        "    breaker()\n",
        "\n",
        "    def get_features(model, path):\n",
        "        names = os.listdir(path)\n",
        "\n",
        "        torch_features = []\n",
        "        numpy_features = []\n",
        "        for name in names:\n",
        "            image = preprocess(cv2.imread(os.path.join(path, name), cv2.IMREAD_COLOR))\n",
        "            t, n = model.get_features(image)\n",
        "            torch_features.append(t)\n",
        "            numpy_features.append(n)\n",
        "        return torch_features, numpy_features\n",
        "        \n",
        "    p_features, _ = get_features(model, pos_path)\n",
        "    n_features, _ = get_features(model, neg_path)\n",
        "\n",
        "    countp = 1\n",
        "    for p_feat in p_features:\n",
        "        countn = 1\n",
        "        for n_feat in n_features:\n",
        "            cos_sim = nn.CosineSimilarity()(p_feat, n_feat).item()\n",
        "            euc_dis = nn.PairwiseDistance()(p_feat, n_feat).item()\n",
        "            print(\"Positive Image {}, Negative Image {}, Cosine Similarity : {:.5f}, Euclidean Distance : {:.5f}\".format(countp, countn, cos_sim, euc_dis))\n",
        "            countn += 1\n",
        "        countp += 1\n",
        "        breaker()"
      ],
      "execution_count": null,
      "outputs": []
    },
    {
      "cell_type": "markdown",
      "metadata": {
        "id": "X42pIDvfVMrm"
      },
      "source": [
        "# Main"
      ]
    },
    {
      "cell_type": "code",
      "metadata": {
        "colab": {
          "base_uri": "https://localhost:8080/",
          "height": 1000,
          "referenced_widgets": [
            "4198576931b7418ab457e4ed4d7fa80c",
            "a775b2d71ed841c8b210d9c3ef0dd386",
            "71fb16e2129f48e58a87c019215c6631",
            "155e67f0fe72406b9c7ce9793e990199",
            "af5a37b0085e4e18bd0b920ee61c1db9",
            "b12b495cd73b4ee8aae50b8dbeace6fb",
            "2e43850ebbdb4ba1aedadf2f5b54c51b",
            "8d5f09c28b72430d8a59ac183e4b6b10"
          ]
        },
        "id": "vs4Aao8_VOAH",
        "outputId": "c52e29db-7f89-4198-a056-b9c1634cf06f"
      },
      "source": [
        "def main():\n",
        "    model = build_model()\n",
        "    analyze_features(model, POSITIVE_DIR, NEGATIVE_DIR)\n",
        "main()"
      ],
      "execution_count": null,
      "outputs": [
        {
          "output_type": "stream",
          "text": [
            "\n",
            "**************************************************\n",
            "\n",
            "Building Feature Extractor ....\n"
          ],
          "name": "stdout"
        },
        {
          "output_type": "stream",
          "text": [
            "Downloading: \"https://download.pytorch.org/models/vgg16_bn-6c64b313.pth\" to /root/.cache/torch/hub/checkpoints/vgg16_bn-6c64b313.pth\n"
          ],
          "name": "stderr"
        },
        {
          "output_type": "display_data",
          "data": {
            "application/vnd.jupyter.widget-view+json": {
              "model_id": "4198576931b7418ab457e4ed4d7fa80c",
              "version_minor": 0,
              "version_major": 2
            },
            "text/plain": [
              "HBox(children=(FloatProgress(value=0.0, max=553507836.0), HTML(value='')))"
            ]
          },
          "metadata": {
            "tags": []
          }
        },
        {
          "output_type": "stream",
          "text": [
            "\n",
            "\n",
            "**************************************************\n",
            "\n",
            "Analyzing Features ....\n",
            "\n",
            "**************************************************\n",
            "\n",
            "Positive Image 1, Negative Image 1, Cosine Similarity : 0.71755, Euclidean Distance : 4.81238\n",
            "Positive Image 1, Negative Image 2, Cosine Similarity : 0.52099, Euclidean Distance : 5.77033\n",
            "Positive Image 1, Negative Image 3, Cosine Similarity : 0.50352, Euclidean Distance : 6.21682\n",
            "Positive Image 1, Negative Image 4, Cosine Similarity : 0.49885, Euclidean Distance : 5.44535\n",
            "Positive Image 1, Negative Image 5, Cosine Similarity : 0.72038, Euclidean Distance : 4.29459\n",
            "Positive Image 1, Negative Image 6, Cosine Similarity : 0.52167, Euclidean Distance : 5.48309\n",
            "Positive Image 1, Negative Image 7, Cosine Similarity : 0.57170, Euclidean Distance : 5.28908\n",
            "Positive Image 1, Negative Image 8, Cosine Similarity : 0.57174, Euclidean Distance : 5.84452\n",
            "Positive Image 1, Negative Image 9, Cosine Similarity : 0.51478, Euclidean Distance : 5.07255\n",
            "Positive Image 1, Negative Image 10, Cosine Similarity : 0.51851, Euclidean Distance : 5.08189\n",
            "Positive Image 1, Negative Image 11, Cosine Similarity : 0.73953, Euclidean Distance : 3.43904\n",
            "\n",
            "**************************************************\n",
            "\n",
            "Positive Image 2, Negative Image 1, Cosine Similarity : 0.48642, Euclidean Distance : 6.06698\n",
            "Positive Image 2, Negative Image 2, Cosine Similarity : 0.65643, Euclidean Distance : 4.88641\n",
            "Positive Image 2, Negative Image 3, Cosine Similarity : 0.49211, Euclidean Distance : 6.09330\n",
            "Positive Image 2, Negative Image 4, Cosine Similarity : 0.46066, Euclidean Distance : 5.28002\n",
            "Positive Image 2, Negative Image 5, Cosine Similarity : 0.62397, Euclidean Distance : 4.78733\n",
            "Positive Image 2, Negative Image 6, Cosine Similarity : 0.40843, Euclidean Distance : 5.70521\n",
            "Positive Image 2, Negative Image 7, Cosine Similarity : 0.43840, Euclidean Distance : 5.69282\n",
            "Positive Image 2, Negative Image 8, Cosine Similarity : 0.46721, Euclidean Distance : 6.23697\n",
            "Positive Image 2, Negative Image 9, Cosine Similarity : 0.43836, Euclidean Distance : 5.00210\n",
            "Positive Image 2, Negative Image 10, Cosine Similarity : 0.44718, Euclidean Distance : 5.00388\n",
            "Positive Image 2, Negative Image 11, Cosine Similarity : 0.47549, Euclidean Distance : 4.22321\n",
            "\n",
            "**************************************************\n",
            "\n",
            "Positive Image 3, Negative Image 1, Cosine Similarity : 0.56472, Euclidean Distance : 6.04991\n",
            "Positive Image 3, Negative Image 2, Cosine Similarity : 0.58874, Euclidean Distance : 5.64062\n",
            "Positive Image 3, Negative Image 3, Cosine Similarity : 0.75101, Euclidean Distance : 4.65466\n",
            "Positive Image 3, Negative Image 4, Cosine Similarity : 0.50693, Euclidean Distance : 5.80369\n",
            "Positive Image 3, Negative Image 5, Cosine Similarity : 0.59582, Euclidean Distance : 5.41936\n",
            "Positive Image 3, Negative Image 6, Cosine Similarity : 0.45112, Euclidean Distance : 6.26188\n",
            "Positive Image 3, Negative Image 7, Cosine Similarity : 0.50840, Euclidean Distance : 6.00313\n",
            "Positive Image 3, Negative Image 8, Cosine Similarity : 0.56359, Euclidean Distance : 6.11796\n",
            "Positive Image 3, Negative Image 9, Cosine Similarity : 0.54778, Euclidean Distance : 5.34487\n",
            "Positive Image 3, Negative Image 10, Cosine Similarity : 0.55014, Euclidean Distance : 5.35190\n",
            "Positive Image 3, Negative Image 11, Cosine Similarity : 0.54240, Euclidean Distance : 5.08661\n",
            "\n",
            "**************************************************\n",
            "\n",
            "Positive Image 4, Negative Image 1, Cosine Similarity : 0.57630, Euclidean Distance : 5.78783\n",
            "Positive Image 4, Negative Image 2, Cosine Similarity : 0.61477, Euclidean Distance : 5.25927\n",
            "Positive Image 4, Negative Image 3, Cosine Similarity : 0.54598, Euclidean Distance : 6.01810\n",
            "Positive Image 4, Negative Image 4, Cosine Similarity : 0.74928, Euclidean Distance : 3.92857\n",
            "Positive Image 4, Negative Image 5, Cosine Similarity : 0.62774, Euclidean Distance : 4.97144\n",
            "Positive Image 4, Negative Image 6, Cosine Similarity : 0.46792, Euclidean Distance : 5.85689\n",
            "Positive Image 4, Negative Image 7, Cosine Similarity : 0.47958, Euclidean Distance : 5.88456\n",
            "Positive Image 4, Negative Image 8, Cosine Similarity : 0.51797, Euclidean Distance : 6.21262\n",
            "Positive Image 4, Negative Image 9, Cosine Similarity : 0.44964, Euclidean Distance : 5.50812\n",
            "Positive Image 4, Negative Image 10, Cosine Similarity : 0.53440, Euclidean Distance : 5.09300\n",
            "Positive Image 4, Negative Image 11, Cosine Similarity : 0.52270, Euclidean Distance : 4.72908\n",
            "\n",
            "**************************************************\n",
            "\n",
            "Positive Image 5, Negative Image 1, Cosine Similarity : 0.52432, Euclidean Distance : 5.88694\n",
            "Positive Image 5, Negative Image 2, Cosine Similarity : 0.47914, Euclidean Distance : 5.72683\n",
            "Positive Image 5, Negative Image 3, Cosine Similarity : 0.44219, Euclidean Distance : 6.30039\n",
            "Positive Image 5, Negative Image 4, Cosine Similarity : 0.48786, Euclidean Distance : 5.13485\n",
            "Positive Image 5, Negative Image 5, Cosine Similarity : 0.85964, Euclidean Distance : 3.43084\n",
            "Positive Image 5, Negative Image 6, Cosine Similarity : 0.49395, Euclidean Distance : 5.31280\n",
            "Positive Image 5, Negative Image 7, Cosine Similarity : 0.47047, Euclidean Distance : 5.53085\n",
            "Positive Image 5, Negative Image 8, Cosine Similarity : 0.50089, Euclidean Distance : 6.07664\n",
            "Positive Image 5, Negative Image 9, Cosine Similarity : 0.41980, Euclidean Distance : 5.03803\n",
            "Positive Image 5, Negative Image 10, Cosine Similarity : 0.46188, Euclidean Distance : 4.90569\n",
            "Positive Image 5, Negative Image 11, Cosine Similarity : 0.59489, Euclidean Distance : 3.66884\n",
            "\n",
            "**************************************************\n",
            "\n",
            "Positive Image 6, Negative Image 1, Cosine Similarity : 0.55763, Euclidean Distance : 5.76308\n",
            "Positive Image 6, Negative Image 2, Cosine Similarity : 0.54218, Euclidean Distance : 5.51179\n",
            "Positive Image 6, Negative Image 3, Cosine Similarity : 0.45520, Euclidean Distance : 6.33269\n",
            "Positive Image 6, Negative Image 4, Cosine Similarity : 0.49616, Euclidean Distance : 5.24096\n",
            "Positive Image 6, Negative Image 5, Cosine Similarity : 0.66630, Euclidean Distance : 4.57908\n",
            "Positive Image 6, Negative Image 6, Cosine Similarity : 0.72574, Euclidean Distance : 4.14617\n",
            "Positive Image 6, Negative Image 7, Cosine Similarity : 0.48040, Euclidean Distance : 5.60915\n",
            "Positive Image 6, Negative Image 8, Cosine Similarity : 0.52511, Euclidean Distance : 6.01196\n",
            "Positive Image 6, Negative Image 9, Cosine Similarity : 0.48660, Euclidean Distance : 4.94990\n",
            "Positive Image 6, Negative Image 10, Cosine Similarity : 0.49365, Euclidean Distance : 4.95123\n",
            "Positive Image 6, Negative Image 11, Cosine Similarity : 0.59783, Euclidean Distance : 3.89753\n",
            "\n",
            "**************************************************\n",
            "\n",
            "Positive Image 7, Negative Image 1, Cosine Similarity : 0.62646, Euclidean Distance : 5.69644\n",
            "Positive Image 7, Negative Image 2, Cosine Similarity : 0.54660, Euclidean Distance : 6.03008\n",
            "Positive Image 7, Negative Image 3, Cosine Similarity : 0.55120, Euclidean Distance : 6.27137\n",
            "Positive Image 7, Negative Image 4, Cosine Similarity : 0.50812, Euclidean Distance : 5.93591\n",
            "Positive Image 7, Negative Image 5, Cosine Similarity : 0.56399, Euclidean Distance : 5.74782\n",
            "Positive Image 7, Negative Image 6, Cosine Similarity : 0.48290, Euclidean Distance : 6.21152\n",
            "Positive Image 7, Negative Image 7, Cosine Similarity : 0.89254, Euclidean Distance : 2.86533\n",
            "Positive Image 7, Negative Image 8, Cosine Similarity : 0.62109, Euclidean Distance : 5.79145\n",
            "Positive Image 7, Negative Image 9, Cosine Similarity : 0.55115, Euclidean Distance : 5.47816\n",
            "Positive Image 7, Negative Image 10, Cosine Similarity : 0.51829, Euclidean Distance : 5.68948\n",
            "Positive Image 7, Negative Image 11, Cosine Similarity : 0.59060, Euclidean Distance : 5.02886\n",
            "\n",
            "**************************************************\n",
            "\n",
            "Positive Image 8, Negative Image 1, Cosine Similarity : 0.59500, Euclidean Distance : 6.09546\n",
            "Positive Image 8, Negative Image 2, Cosine Similarity : 0.54074, Euclidean Distance : 6.27577\n",
            "Positive Image 8, Negative Image 3, Cosine Similarity : 0.58104, Euclidean Distance : 6.23090\n",
            "Positive Image 8, Negative Image 4, Cosine Similarity : 0.44917, Euclidean Distance : 6.54138\n",
            "Positive Image 8, Negative Image 5, Cosine Similarity : 0.53934, Euclidean Distance : 6.13439\n",
            "Positive Image 8, Negative Image 6, Cosine Similarity : 0.52378, Euclidean Distance : 6.19587\n",
            "Positive Image 8, Negative Image 7, Cosine Similarity : 0.59488, Euclidean Distance : 5.77517\n",
            "Positive Image 8, Negative Image 8, Cosine Similarity : 0.85830, Euclidean Distance : 3.64821\n",
            "Positive Image 8, Negative Image 9, Cosine Similarity : 0.49142, Euclidean Distance : 6.10314\n",
            "Positive Image 8, Negative Image 10, Cosine Similarity : 0.53163, Euclidean Distance : 5.88621\n",
            "Positive Image 8, Negative Image 11, Cosine Similarity : 0.58478, Euclidean Distance : 5.38841\n",
            "\n",
            "**************************************************\n",
            "\n",
            "Positive Image 9, Negative Image 1, Cosine Similarity : 0.51352, Euclidean Distance : 5.99406\n",
            "Positive Image 9, Negative Image 2, Cosine Similarity : 0.53124, Euclidean Distance : 5.57019\n",
            "Positive Image 9, Negative Image 3, Cosine Similarity : 0.51784, Euclidean Distance : 6.02108\n",
            "Positive Image 9, Negative Image 4, Cosine Similarity : 0.43739, Euclidean Distance : 5.52306\n",
            "Positive Image 9, Negative Image 5, Cosine Similarity : 0.63210, Euclidean Distance : 4.77847\n",
            "Positive Image 9, Negative Image 6, Cosine Similarity : 0.48030, Euclidean Distance : 5.50625\n",
            "Positive Image 9, Negative Image 7, Cosine Similarity : 0.47319, Euclidean Distance : 5.64691\n",
            "Positive Image 9, Negative Image 8, Cosine Similarity : 0.48134, Euclidean Distance : 6.23557\n",
            "Positive Image 9, Negative Image 9, Cosine Similarity : 0.69643, Euclidean Distance : 3.84390\n",
            "Positive Image 9, Negative Image 10, Cosine Similarity : 0.51375, Euclidean Distance : 4.85867\n",
            "Positive Image 9, Negative Image 11, Cosine Similarity : 0.49629, Euclidean Distance : 4.36653\n",
            "\n",
            "**************************************************\n",
            "\n",
            "Positive Image 10, Negative Image 1, Cosine Similarity : 0.55833, Euclidean Distance : 6.25652\n",
            "Positive Image 10, Negative Image 2, Cosine Similarity : 0.57444, Euclidean Distance : 5.92088\n",
            "Positive Image 10, Negative Image 3, Cosine Similarity : 0.61346, Euclidean Distance : 5.88893\n",
            "Positive Image 10, Negative Image 4, Cosine Similarity : 0.55490, Euclidean Distance : 5.74551\n",
            "Positive Image 10, Negative Image 5, Cosine Similarity : 0.63551, Euclidean Distance : 5.33649\n",
            "Positive Image 10, Negative Image 6, Cosine Similarity : 0.44913, Euclidean Distance : 6.51054\n",
            "Positive Image 10, Negative Image 7, Cosine Similarity : 0.51066, Euclidean Distance : 6.20581\n",
            "Positive Image 10, Negative Image 8, Cosine Similarity : 0.57133, Euclidean Distance : 6.21896\n",
            "Positive Image 10, Negative Image 9, Cosine Similarity : 0.57352, Euclidean Distance : 5.45314\n",
            "Positive Image 10, Negative Image 10, Cosine Similarity : 0.76442, Euclidean Distance : 4.12747\n",
            "Positive Image 10, Negative Image 11, Cosine Similarity : 0.51049, Euclidean Distance : 5.56667\n",
            "\n",
            "**************************************************\n",
            "\n",
            "Positive Image 11, Negative Image 1, Cosine Similarity : 0.65402, Euclidean Distance : 5.22809\n",
            "Positive Image 11, Negative Image 2, Cosine Similarity : 0.46669, Euclidean Distance : 5.95494\n",
            "Positive Image 11, Negative Image 3, Cosine Similarity : 0.45661, Euclidean Distance : 6.37909\n",
            "Positive Image 11, Negative Image 4, Cosine Similarity : 0.50421, Euclidean Distance : 5.27941\n",
            "Positive Image 11, Negative Image 5, Cosine Similarity : 0.64240, Euclidean Distance : 4.75069\n",
            "Positive Image 11, Negative Image 6, Cosine Similarity : 0.50154, Euclidean Distance : 5.46905\n",
            "Positive Image 11, Negative Image 7, Cosine Similarity : 0.54632, Euclidean Distance : 5.33304\n",
            "Positive Image 11, Negative Image 8, Cosine Similarity : 0.54483, Euclidean Distance : 5.93984\n",
            "Positive Image 11, Negative Image 9, Cosine Similarity : 0.42309, Euclidean Distance : 5.34829\n",
            "Positive Image 11, Negative Image 10, Cosine Similarity : 0.48594, Euclidean Distance : 5.08469\n",
            "Positive Image 11, Negative Image 11, Cosine Similarity : 0.92631, Euclidean Distance : 1.76274\n",
            "\n",
            "**************************************************\n",
            "\n"
          ],
          "name": "stdout"
        }
      ]
    },
    {
      "cell_type": "code",
      "metadata": {
        "id": "jE_MUfanZ1OV"
      },
      "source": [
        ""
      ],
      "execution_count": null,
      "outputs": []
    }
  ]
}